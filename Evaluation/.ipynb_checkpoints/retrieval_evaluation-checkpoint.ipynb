{
 "cells": [
  {
   "cell_type": "code",
   "execution_count": 1,
   "id": "09b95611-ef8e-464c-82d7-a9a9242754a2",
   "metadata": {},
   "outputs": [],
   "source": [
    "import pandas as pd\n",
    "import lancedb\n",
    "from transformers import AutoTokenizer, AutoModelForSeq2SeqLM\n",
    "import random\n",
    "from sentence_transformers import SentenceTransformer"
   ]
  },
  {
   "cell_type": "markdown",
   "id": "c98c8e18-2461-4a4c-bf41-0296bc744d62",
   "metadata": {},
   "source": [
    "* Connect to LanceDB and get the tables"
   ]
  },
  {
   "cell_type": "code",
   "execution_count": 2,
   "id": "fe35f273-5436-45e5-bffb-a4aeabcf8be7",
   "metadata": {},
   "outputs": [],
   "source": [
    "db = lancedb.connect('/home/bluemusk/diet-assistant/lancedb')"
   ]
  },
  {
   "cell_type": "code",
   "execution_count": 3,
   "id": "823b1ee5-2513-4dd9-95c2-6c45c26b9b0a",
   "metadata": {},
   "outputs": [
    {
     "data": {
      "text/plain": [
       "['diet_table', 'new_diet_table']"
      ]
     },
     "execution_count": 3,
     "metadata": {},
     "output_type": "execute_result"
    }
   ],
   "source": [
    "db.table_names()"
   ]
  },
  {
   "cell_type": "markdown",
   "id": "808cdfca-8cd5-451e-b119-c495c5e94424",
   "metadata": {},
   "source": [
    "### Evaluating retrieval on text (index) column "
   ]
  },
  {
   "cell_type": "code",
   "execution_count": 4,
   "id": "98114929-ac75-4176-bc67-08749790c9e0",
   "metadata": {},
   "outputs": [
    {
     "data": {
      "text/html": [
       "<div>\n",
       "<style scoped>\n",
       "    .dataframe tbody tr th:only-of-type {\n",
       "        vertical-align: middle;\n",
       "    }\n",
       "\n",
       "    .dataframe tbody tr th {\n",
       "        vertical-align: top;\n",
       "    }\n",
       "\n",
       "    .dataframe thead th {\n",
       "        text-align: right;\n",
       "    }\n",
       "</style>\n",
       "<table border=\"1\" class=\"dataframe\">\n",
       "  <thead>\n",
       "    <tr style=\"text-align: right;\">\n",
       "      <th></th>\n",
       "      <th>chunk_id</th>\n",
       "      <th>text</th>\n",
       "      <th>embedding</th>\n",
       "    </tr>\n",
       "  </thead>\n",
       "  <tbody>\n",
       "    <tr>\n",
       "      <th>0</th>\n",
       "      <td>0</td>\n",
       "      <td>INTRODUCTION TO \\nNUTRITION SCIENCE</td>\n",
       "      <td>[-0.05099819228053093, -0.056592684239149094, ...</td>\n",
       "    </tr>\n",
       "    <tr>\n",
       "      <th>1</th>\n",
       "      <td>1</td>\n",
       "      <td>Introduction to Nutrition Science</td>\n",
       "      <td>[-0.05099819228053093, -0.056592684239149094, ...</td>\n",
       "    </tr>\n",
       "    <tr>\n",
       "      <th>2</th>\n",
       "      <td>2</td>\n",
       "      <td>This text is disseminated via the Open Educati...</td>\n",
       "      <td>[-0.019119346514344215, 0.10461532324552536, 0...</td>\n",
       "    </tr>\n",
       "    <tr>\n",
       "      <th>3</th>\n",
       "      <td>3</td>\n",
       "      <td>Instructors can adopt existing LibreTexts text...</td>\n",
       "      <td>[-0.029113631695508957, 0.010369417257606983, ...</td>\n",
       "    </tr>\n",
       "    <tr>\n",
       "      <th>4</th>\n",
       "      <td>4</td>\n",
       "      <td>for the construction, customization, and disse...</td>\n",
       "      <td>[-0.017107605934143066, 0.02413615770637989, -...</td>\n",
       "    </tr>\n",
       "    <tr>\n",
       "      <th>...</th>\n",
       "      <td>...</td>\n",
       "      <td>...</td>\n",
       "      <td>...</td>\n",
       "    </tr>\n",
       "    <tr>\n",
       "      <th>3590</th>\n",
       "      <td>3590</td>\n",
       "      <td>11.7: Food Processing - CC BY-NC-SA 4.0\\n11.8:...</td>\n",
       "      <td>[-0.02437693625688553, -0.005427069962024689, ...</td>\n",
       "    </tr>\n",
       "    <tr>\n",
       "      <th>3591</th>\n",
       "      <td>3591</td>\n",
       "      <td>3 h t t p s : / / m e d . l i b r e t e x t s ...</td>\n",
       "      <td>[-0.025427795946598053, 0.023010170087218285, ...</td>\n",
       "    </tr>\n",
       "    <tr>\n",
       "      <th>3592</th>\n",
       "      <td>3592</td>\n",
       "      <td>SA 4.0\\n13.4: Fuel Sources - CC BY-NC-SA 4.0\\n...</td>\n",
       "      <td>[-0.08159752935171127, 0.005391544196754694, -...</td>\n",
       "    </tr>\n",
       "    <tr>\n",
       "      <th>3593</th>\n",
       "      <td>3593</td>\n",
       "      <td>14.3: Infancy - CC BY-NC-SA 4.0\\n14.4: Toddler...</td>\n",
       "      <td>[-0.023193208500742912, 0.05462077260017395, -...</td>\n",
       "    </tr>\n",
       "    <tr>\n",
       "      <th>3594</th>\n",
       "      <td>3594</td>\n",
       "      <td>4.0\\n16.3: The Food Industry - CC BY-NC-SA 4.0...</td>\n",
       "      <td>[0.007158725988119841, 0.029436541721224785, -...</td>\n",
       "    </tr>\n",
       "  </tbody>\n",
       "</table>\n",
       "<p>3595 rows × 3 columns</p>\n",
       "</div>"
      ],
      "text/plain": [
       "      chunk_id                                               text  \\\n",
       "0            0                INTRODUCTION TO \\nNUTRITION SCIENCE   \n",
       "1            1                  Introduction to Nutrition Science   \n",
       "2            2  This text is disseminated via the Open Educati...   \n",
       "3            3  Instructors can adopt existing LibreTexts text...   \n",
       "4            4  for the construction, customization, and disse...   \n",
       "...        ...                                                ...   \n",
       "3590      3590  11.7: Food Processing - CC BY-NC-SA 4.0\\n11.8:...   \n",
       "3591      3591  3 h t t p s : / / m e d . l i b r e t e x t s ...   \n",
       "3592      3592  SA 4.0\\n13.4: Fuel Sources - CC BY-NC-SA 4.0\\n...   \n",
       "3593      3593  14.3: Infancy - CC BY-NC-SA 4.0\\n14.4: Toddler...   \n",
       "3594      3594  4.0\\n16.3: The Food Industry - CC BY-NC-SA 4.0...   \n",
       "\n",
       "                                              embedding  \n",
       "0     [-0.05099819228053093, -0.056592684239149094, ...  \n",
       "1     [-0.05099819228053093, -0.056592684239149094, ...  \n",
       "2     [-0.019119346514344215, 0.10461532324552536, 0...  \n",
       "3     [-0.029113631695508957, 0.010369417257606983, ...  \n",
       "4     [-0.017107605934143066, 0.02413615770637989, -...  \n",
       "...                                                 ...  \n",
       "3590  [-0.02437693625688553, -0.005427069962024689, ...  \n",
       "3591  [-0.025427795946598053, 0.023010170087218285, ...  \n",
       "3592  [-0.08159752935171127, 0.005391544196754694, -...  \n",
       "3593  [-0.023193208500742912, 0.05462077260017395, -...  \n",
       "3594  [0.007158725988119841, 0.029436541721224785, -...  \n",
       "\n",
       "[3595 rows x 3 columns]"
      ]
     },
     "execution_count": 4,
     "metadata": {},
     "output_type": "execute_result"
    }
   ],
   "source": [
    "table = db.open_table('diet_table')\n",
    "table.to_pandas()"
   ]
  },
  {
   "cell_type": "code",
   "execution_count": 5,
   "id": "f17bab4a-f7ec-453f-9db9-7a88e768c69e",
   "metadata": {},
   "outputs": [
    {
     "data": {
      "text/plain": [
       "[{'text': 'What are some of the nutrients found in your favorite foods?\\nhttp://www.ars.usda.gov/Services/docs.htm?docid=17032\\n2. Have a discussion in class on the “progression of science” and its significance to human health as depicted in the video on\\npellagra (Video .\\n1.2: What Are Nutrients? is shared under a CC BY-NC-SA license and was authored, remixed, and/or curated by LibreTexts.\\nWhat is a calorie? - Emma Bryce What is a calorie? - Emma Bryce\\nFood: A Better Source of Nutrients\\n1.2.1',\n",
       "  '_score': 10.188911437988281},\n",
       " {'text': 'What are Nutrients?  \\nThe foods we eat contain nutrients. Nutrients are substances required by the body to perform its basic functions. Nutrients must be\\nobtained from our diet, since the human body does not synthesize or produce them. Nutrients have one or more of three basic\\nfunctions: they provide energy, contribute to body structure, and/or regulate chemical processes in the body. These basic functions',\n",
       "  '_score': 9.51707935333252},\n",
       " {'text': '1 . 2 . 1 h t t p s : / / m e d . l i b r e t e x t s . o r g / @g o / p a g e / 4 0 5 5 61.2: What Are Nutrients?\\nDefine the word “nutrient” and identify the six classes of nutrients essential for health.\\nList the three main energy (Calorie) yielding nutrients and how many Calories each of these nutrients provide.\\nWhat is in Food?  \\nYour \"diet\" is defined as the foods you choose to eat. The diet of most people contains a variety of foods: nuts, seeds, leafy green',\n",
       "  '_score': 8.999926567077637},\n",
       " {'text': 'Victor Lindlahr wrote in an ad in 1923, “Ninety percent of the diseases known to man are caused by cheap foodstuffs. You are what\\nyou eat.” Today, we know this phrase simply as, “You are what you eat.”\\nFigure : Nutrition provides the body with the nutrients it needs to perform all activities,\\nfrom taking a breath to strenuous athletic activity. © Dreamstime\\nGood nutrition equates to receiving enough (but not too much) of the macronutrients (proteins, carbohydrates, fats, and water) and',\n",
       "  '_score': 7.978999137878418},\n",
       " {'text': 'proteins, and water, and are referred to as macronutrients.\\nTwo of the classes of nutrients are needed in lesser amounts, but are still essential for bodily function. They are vitamins and\\nminerals.\\nOne measurement of food quality is the amount of essential nutrients a food contains relative to the amount of energy it has\\n(nutrient density).\\nDiscussion Starters  \\n1. Make a list of some of your favorite foods and visit the “What’s In the Foods You Eat?” search tool provided by the USDA.',\n",
       "  '_score': 7.971519470214844}]"
      ]
     },
     "execution_count": 5,
     "metadata": {},
     "output_type": "execute_result"
    }
   ],
   "source": [
    "# Perform a full-text search\n",
    "query = 'What are Nutrients?'\n",
    "text_search = table.search(query, query_type=\"fts\").limit(5).select([\"text\"]).to_list()\n",
    "text_search"
   ]
  },
  {
   "cell_type": "markdown",
   "id": "2737808e-8bc6-4aad-b087-5c11e6153d57",
   "metadata": {},
   "source": [
    "#### Generating dcouments with open-source llm (google flan-t5-large)"
   ]
  },
  {
   "cell_type": "code",
   "execution_count": 6,
   "id": "10823d80-ec9e-4ea1-bb5f-a694054ceb01",
   "metadata": {},
   "outputs": [
    {
     "name": "stderr",
     "output_type": "stream",
     "text": [
      "/home/bluemusk/.local/share/virtualenvs/diet-assistant-eO1hxvO4/lib/python3.10/site-packages/transformers/tokenization_utils_base.py:1601: FutureWarning: `clean_up_tokenization_spaces` was not set. It will be set to `True` by default. This behavior will be depracted in transformers v4.45, and will be then set to `False` by default. For more details check this issue: https://github.com/huggingface/transformers/issues/31884\n",
      "  warnings.warn(\n"
     ]
    }
   ],
   "source": [
    "# Load the google flan-t5-large model and tokenizer\n",
    "model_name = \"google/flan-t5-large\"\n",
    "tokenizer = AutoTokenizer.from_pretrained(model_name)\n",
    "model = AutoModelForSeq2SeqLM.from_pretrained(model_name)"
   ]
  },
  {
   "cell_type": "code",
   "execution_count": 7,
   "id": "5e0559f6-7dee-4fc7-aea1-9bda033b80b1",
   "metadata": {},
   "outputs": [
    {
     "data": {
      "text/plain": [
       "[{'text': 'nutrient absorption and absorption of nutrients by the digestive and circulatory systems of humans and other organisms is essential for proper functioning of digestive and urinary systems and for normal growth and development of the body s internal organs and systemic functions and for the maintenance of normal homeostasis and homeostatic balance in the organism s tissues and organs as well as for reproduction, growth and repair of tissues, organs, and organ systems.',\n",
       "  '_score': 9.898151},\n",
       " {'text': 'nutrient absorption and absorption of nutrients by the digestive and circulatory systems of humans and other organisms is essential for proper functioning of digestive and urinary systems and for normal growth and development of the body s internal organs and systemic functions and for the maintenance of normal homeostasis and homeostatic balance in the organism s tissues and organs as well as for reproduction, growth and repair of tissues, organs, cells and organ systems.',\n",
       "  '_score': 9.838823},\n",
       " {'text': 'nutrient absorption and absorption of nutrients by the digestive and circulatory systems of humans and other organisms is essential for proper functioning of digestive and urinary systems and for normal growth and development of the body s internal organs and systemic functions and for the maintenance of normal homeostasis and homeostatic balance in the organism s tissues and organs as well as for reproduction, growth and repair of tissues, organs, and systems.',\n",
       "  '_score': 8.988775},\n",
       " {'text': 'nutrient absorption and absorption of nutrients by the digestive and circulatory systems of humans and other organisms is essential for proper functioning of digestive and urinary systems and for normal growth and development of the body s internal organs and systemic functions and for the maintenance of normal homeostasis and homeostatic balance in the organism s tissues and organs as well as for reproduction, growth and repair of tissues, organs, and cells.',\n",
       "  '_score': 7.482023},\n",
       " {'text': 'nutrient absorption and absorption of nutrients by the digestive and circulatory systems of humans and other organisms is essential for proper functioning of digestive and urinary systems and for normal growth and development of the body s internal organs and systemic functions and for the maintenance of normal homeostasis and homeostatic balance in the organism s tissues and organs as well as for reproduction, growth and repair of tissues, organs, cells and organ systems',\n",
       "  '_score': 7.381005}]"
      ]
     },
     "execution_count": 7,
     "metadata": {},
     "output_type": "execute_result"
    }
   ],
   "source": [
    "query = \"What are Nutrients?\"\n",
    "\n",
    "inputs = tokenizer(query, return_tensors=\"pt\").input_ids\n",
    "\n",
    "outputs = model.generate(\n",
    "    inputs, \n",
    "    max_length=300,             \n",
    "    min_length=100,             \n",
    "    num_return_sequences=5,     \n",
    "    num_beams=5,                \n",
    "    no_repeat_ngram_size=3,     \n",
    "    temperature=0.9,            \n",
    "    top_p=0.9,                  \n",
    "    early_stopping=True,        \n",
    "    do_sample=True             \n",
    ")\n",
    "\n",
    "# Decode generated outputs\n",
    "generated_docs = [tokenizer.decode(output, skip_special_tokens=True) for output in outputs]\n",
    "\n",
    "# Generate random scores and sort them in descending order\n",
    "random_scores = sorted([round(random.uniform(7, 10), 6) for _ in range(len(generated_docs))], reverse=True)\n",
    "\n",
    "# Attach the sorted scores to the generated documents\n",
    "scored_docs = [{\"text\": doc, \"_score\": score} for doc, score in zip(generated_docs, random_scores)]\n",
    "\n",
    "scored_docs"
   ]
  },
  {
   "cell_type": "markdown",
   "id": "4a445ff0-4733-4520-82b0-940a9c1fd3e7",
   "metadata": {},
   "source": [
    "#### Test if LLM response is relevant to text retrieval outcome from table for this query"
   ]
  },
  {
   "cell_type": "code",
   "execution_count": 8,
   "id": "90e4789f-c120-44e1-882b-4fef5243e36f",
   "metadata": {},
   "outputs": [
    {
     "data": {
      "text/plain": [
       "'What are some of the nutrients found in your favorite foods?\\nhttp://www.ars.usda.gov/Services/docs.htm?docid=17032\\n2. Have a discussion in class on the “progression of science” and its significance to human health as depicted in the video on\\npellagra (Video .\\n1.2: What Are Nutrients? is shared under a CC BY-NC-SA license and was authored, remixed, and/or curated by LibreTexts.\\nWhat is a calorie? - Emma Bryce What is a calorie? - Emma Bryce\\nFood: A Better Source of Nutrients\\n1.2.1'"
      ]
     },
     "execution_count": 8,
     "metadata": {},
     "output_type": "execute_result"
    }
   ],
   "source": [
    "text_search[0]['text']"
   ]
  },
  {
   "cell_type": "code",
   "execution_count": 9,
   "id": "e6166403-e6e5-43d8-9f67-4bea056d696c",
   "metadata": {},
   "outputs": [
    {
     "data": {
      "text/plain": [
       "'nutrient absorption and absorption of nutrients by the digestive and circulatory systems of humans and other organisms is essential for proper functioning of digestive and urinary systems and for normal growth and development of the body s internal organs and systemic functions and for the maintenance of normal homeostasis and homeostatic balance in the organism s tissues and organs as well as for reproduction, growth and repair of tissues, organs, and organ systems.'"
      ]
     },
     "execution_count": 9,
     "metadata": {},
     "output_type": "execute_result"
    }
   ],
   "source": [
    "scored_docs[0]['text']"
   ]
  },
  {
   "cell_type": "code",
   "execution_count": 10,
   "id": "92e0c0f5-d50c-406d-929f-4d2795dd1737",
   "metadata": {},
   "outputs": [
    {
     "data": {
      "text/plain": [
       "False"
      ]
     },
     "execution_count": 10,
     "metadata": {},
     "output_type": "execute_result"
    }
   ],
   "source": [
    "text_search[0]['text'] == scored_docs[0]['text']"
   ]
  },
  {
   "cell_type": "code",
   "execution_count": 11,
   "id": "32a8394a-9e86-4c47-a39c-16f832affb02",
   "metadata": {},
   "outputs": [],
   "source": [
    "relevance_total = []\n",
    "\n",
    "for i in range(5):\n",
    "    relevance = text_search[i]['text'] == scored_docs[i]['text']\n",
    "    relevance_total.append(relevance)"
   ]
  },
  {
   "cell_type": "code",
   "execution_count": 12,
   "id": "8452dd57-3b13-425d-930b-2702e6759727",
   "metadata": {},
   "outputs": [
    {
     "data": {
      "text/plain": [
       "[False, False, False, False, False]"
      ]
     },
     "execution_count": 12,
     "metadata": {},
     "output_type": "execute_result"
    }
   ],
   "source": [
    "relevance_total"
   ]
  },
  {
   "cell_type": "code",
   "execution_count": 13,
   "id": "f140350e-c411-4bc3-9fdc-f54a13010f11",
   "metadata": {},
   "outputs": [],
   "source": [
    "# Evaluation: Hit Rate and MRR between generated and retrieved documents\n",
    "def retrieval_evaluation(generated_docs, retrieved_docs, k=5):\n",
    "    hit_rate = any([doc in retrieved_docs[:k] for doc in generated_docs])\n",
    "    \n",
    "    # MRR Calculation\n",
    "    mrr = 0\n",
    "    for idx, retrieved_doc in enumerate(retrieved_docs[:k], 1):\n",
    "        if retrieved_doc in generated_docs:\n",
    "            mrr = 1 / idx\n",
    "            break\n",
    "\n",
    "    print(f\"Hit Rate: {int(hit_rate)}\")\n",
    "    print(f\"MRR: {mrr}\")"
   ]
  },
  {
   "cell_type": "code",
   "execution_count": 14,
   "id": "d703bf87-54ce-4672-b781-eaf2afe651b0",
   "metadata": {},
   "outputs": [
    {
     "name": "stdout",
     "output_type": "stream",
     "text": [
      "Hit Rate: 0\n",
      "MRR: 0\n"
     ]
    }
   ],
   "source": [
    "relevance = retrieval_evaluation(scored_docs, text_search)"
   ]
  },
  {
   "cell_type": "markdown",
   "id": "aea62293-53a8-49c1-ac01-9846843ea43e",
   "metadata": {},
   "source": [
    "#### testing relevance for another text retreived query search"
   ]
  },
  {
   "cell_type": "code",
   "execution_count": 15,
   "id": "a2239f91-61c7-49dc-9bae-10e1beefdfd7",
   "metadata": {},
   "outputs": [
    {
     "data": {
      "text/plain": [
       "[{'text': '4 . 6 . 1 h t t p s : / / m e d . l i b r e t e x t s . o r g / @g o / p a g e / 4 0 5 9 04.6: Carbohydrates and Personal Diet Choices\\nIn this chapter, you learned what carbohydrates are, the different types of carbohydrates in your diet, and that excess consumption\\nof some types of carbohydrates cause disease while others decrease disease risk. Now that we know the benefits of eating the right\\ncarbohydrate, we will examine exactly how much should be eaten to promote health and prevent disease.',\n",
       "  '_score': 8.1629638671875},\n",
       " {'text': 'Victor Lindlahr wrote in an ad in 1923, “Ninety percent of the diseases known to man are caused by cheap foodstuffs. You are what\\nyou eat.” Today, we know this phrase simply as, “You are what you eat.”\\nFigure : Nutrition provides the body with the nutrients it needs to perform all activities,\\nfrom taking a breath to strenuous athletic activity. © Dreamstime\\nGood nutrition equates to receiving enough (but not too much) of the macronutrients (proteins, carbohydrates, fats, and water) and',\n",
       "  '_score': 8.12751293182373},\n",
       " {'text': 'Obesity has been linked to increased risks of developing diabetes and heart disease. To help combat this problem important\\ndietary changes are necessary. Reducing the type and amount of carbohydrates and sugar consumed daily is critical. Limiting\\nthe intake of saturated fats and trans fats, increasing physical activity, and eating fewer calories are all equally important in this\\nfight against obesity.\\nWhat Y ou Can Do',\n",
       "  '_score': 7.47298526763916},\n",
       " {'text': 'the required amounts of calories, fats, proteins, carbohydrates, vitamins, and minerals necessary to keep the body and its\\nsystems in good functioning order.\\nDiscussion Starter  \\n1. Describe what the phrase, “You are what you eat” means. Do you notice how you feel after eating certain types of foods? How\\nmight this relate to your overall health?\\n2.2: A Healthy Philosophy toward Food is shared under a CC BY-NC-SA license and was authored, remixed, and/or curated by LibreTexts.2.2.3',\n",
       "  '_score': 7.433162212371826},\n",
       " {'text': 'Carbohydrates  \\nCarbohydrates are molecules composed of carbon, hydrogen, and oxygen. The major food sources of carbohydrates are grains,\\nmilk, fruits, and starchy vegetables, like potatoes. Non-starchy vegetables also contain carbohydrates, but in lesser quantities.\\nCarbohydrates are broadly classified into two forms based on their chemical structure: simple carbohydrates, often called simple\\nsugars; and complex carbohydrates.\\uf5dcLearning Objectives',\n",
       "  '_score': 7.424107074737549}]"
      ]
     },
     "execution_count": 15,
     "metadata": {},
     "output_type": "execute_result"
    }
   ],
   "source": [
    "# Perform a full-text search\n",
    "question = 'What are Carbohydrates?'\n",
    "text_search = table.search(question, query_type=\"fts\").limit(5).select([\"text\"]).to_list()\n",
    "text_search"
   ]
  },
  {
   "cell_type": "code",
   "execution_count": 16,
   "id": "f7fe7d44-905c-427f-bccd-cb936fb8b3c5",
   "metadata": {},
   "outputs": [
    {
     "data": {
      "text/plain": [
       "[{'text': 'carbohydrate phyllobacterium neophyllum symbiosis eukaryota faecium florescens eubacteriaceae famoetidae and phylobacteria genus eucalyptus phylum etymology and physiology phylogenetics and molecular biology',\n",
       "  '_score': 9.033582},\n",
       " {'text': 'carbohydrate phyllobacterium neophyllum symbiosis eukaryota faecium florescens eubacteriaceae famoetidae and phylobacteria genus eucalyptus phylum etymology and physiology phylogenetics and pharmacology',\n",
       "  '_score': 8.903423},\n",
       " {'text': 'carbohydrate phyllobacterium neophyllum symbiosis eukaryota faecium florescens eubacteriaceae famoetidae and phylobacteria genus eucalyptus phylum etymology and physiology phylogenetics and biochemistry',\n",
       "  '_score': 8.466606},\n",
       " {'text': 'carbohydrate phyllobacterium neophyllum symbiosis eukaryota faecium florescens eubacteriaceae famoetidae and phylobacteria genus eucalyptus phylum etymology and physiology phylogenetics and classification',\n",
       "  '_score': 7.379971},\n",
       " {'text': 'carbohydrate phyllobacterium neophyllum symbiosis eukaryota faecium florescens eubacteriaceae famoetidae and phylobacteria genus eucalyptus phylum etymology and physiology phylogenetics and ecology',\n",
       "  '_score': 7.127164}]"
      ]
     },
     "execution_count": 16,
     "metadata": {},
     "output_type": "execute_result"
    }
   ],
   "source": [
    "query = \"What are Carbohydrates?\"\n",
    "\n",
    "inputs = tokenizer(query, return_tensors=\"pt\").input_ids\n",
    "\n",
    "outputs = model.generate(\n",
    "    inputs, \n",
    "    max_length=300,             \n",
    "    min_length=100,             \n",
    "    num_return_sequences=5,     \n",
    "    num_beams=5,                \n",
    "    no_repeat_ngram_size=3,     \n",
    "    temperature=0.9,            \n",
    "    top_p=0.9,                  \n",
    "    early_stopping=True,        \n",
    "    do_sample=True             \n",
    ")\n",
    "\n",
    "# Decode the generated outputs\n",
    "generated_docs = [tokenizer.decode(output, skip_special_tokens=True) for output in outputs]\n",
    "\n",
    "# Generate random scores and sort them in descending order\n",
    "random_scores = sorted([round(random.uniform(7, 10), 6) for _ in range(len(generated_docs))], reverse=True)\n",
    "\n",
    "# Attach the sorted scores to the generated documents\n",
    "scored_docs = [{\"text\": doc, \"_score\": score} for doc, score in zip(generated_docs, random_scores)]\n",
    "\n",
    "scored_docs"
   ]
  },
  {
   "cell_type": "code",
   "execution_count": 17,
   "id": "0057f954-0f77-402b-a72f-c1f2c42efa68",
   "metadata": {},
   "outputs": [
    {
     "data": {
      "text/plain": [
       "[False, False, False, False, False]"
      ]
     },
     "execution_count": 17,
     "metadata": {},
     "output_type": "execute_result"
    }
   ],
   "source": [
    "relevance_total = []\n",
    "\n",
    "for i in range(5):\n",
    "    relevance = text_search[i]['text'] == scored_docs[i]['text']\n",
    "    relevance_total.append(relevance)\n",
    "\n",
    "relevance_total"
   ]
  },
  {
   "cell_type": "code",
   "execution_count": 18,
   "id": "90e35786-40d3-451f-b4ea-2e644fd28268",
   "metadata": {},
   "outputs": [
    {
     "name": "stdout",
     "output_type": "stream",
     "text": [
      "Hit Rate: 0\n",
      "MRR: 0\n"
     ]
    }
   ],
   "source": [
    "relevance = retrieval_evaluation(scored_docs, text_search)"
   ]
  },
  {
   "cell_type": "markdown",
   "id": "71e4f38e-ddad-413d-beb6-ec9da006fec8",
   "metadata": {},
   "source": [
    "* Generate relevant documents for all text column"
   ]
  },
  {
   "cell_type": "code",
   "execution_count": 19,
   "id": "939554cc-4431-47ff-a0f0-87650078ffe4",
   "metadata": {},
   "outputs": [],
   "source": [
    "def generate_documents(query, num_return_sequences=5):\n",
    "    input = tokenizer(query, return_tensors=\"pt\").input_ids\n",
    "    \n",
    "    outputs = model.generate(\n",
    "        input, \n",
    "        max_length=300,\n",
    "        min_length=100,\n",
    "        num_return_sequences=num_return_sequences,\n",
    "        num_beams=5,\n",
    "        no_repeat_ngram_size=3,\n",
    "        temperature=0.9,\n",
    "        top_p=0.9,\n",
    "        early_stopping=True,\n",
    "        do_sample=True\n",
    "    )\n",
    "\n",
    "    generated_docs = [tokenizer.decode(output, skip_special_tokens=True) for output in outputs]\n",
    "    \n",
    "    scored_docs = [{\"text\": doc, \"_score\": round(random.uniform(7, 10), 6)} for doc in generated_docs]\n",
    "    return scored_docs\n",
    "\n",
    "\n",
    "\n",
    "# text data from the LanceDB table\n",
    "text_data = table.to_pandas()\n",
    "\n",
    "text_data['generated_documents'] = text_data['text'].apply(lambda x: generate_documents(x))\n",
    "\n",
    "generated_documents = text_data[['text', 'generated_documents']].to_dict(orient='records')"
   ]
  },
  {
   "cell_type": "markdown",
   "id": "cae9c9c5-325f-4ba2-8c53-385b4dc62742",
   "metadata": {},
   "source": [
    "### Evaluating retrieval on embedding (index) column "
   ]
  },
  {
   "cell_type": "code",
   "execution_count": 19,
   "id": "5558edcb-ac93-4d91-92d7-813d2dcfecf8",
   "metadata": {},
   "outputs": [
    {
     "data": {
      "text/plain": [
       "['diet_table', 'new_diet_table']"
      ]
     },
     "execution_count": 19,
     "metadata": {},
     "output_type": "execute_result"
    }
   ],
   "source": [
    "db.table_names()"
   ]
  },
  {
   "cell_type": "code",
   "execution_count": 20,
   "id": "cf4c014d-9f7a-47a0-8cd4-473744511468",
   "metadata": {},
   "outputs": [
    {
     "data": {
      "text/html": [
       "<div>\n",
       "<style scoped>\n",
       "    .dataframe tbody tr th:only-of-type {\n",
       "        vertical-align: middle;\n",
       "    }\n",
       "\n",
       "    .dataframe tbody tr th {\n",
       "        vertical-align: top;\n",
       "    }\n",
       "\n",
       "    .dataframe thead th {\n",
       "        text-align: right;\n",
       "    }\n",
       "</style>\n",
       "<table border=\"1\" class=\"dataframe\">\n",
       "  <thead>\n",
       "    <tr style=\"text-align: right;\">\n",
       "      <th></th>\n",
       "      <th>chunk_id</th>\n",
       "      <th>text</th>\n",
       "      <th>embedding</th>\n",
       "    </tr>\n",
       "  </thead>\n",
       "  <tbody>\n",
       "    <tr>\n",
       "      <th>0</th>\n",
       "      <td>0</td>\n",
       "      <td>INTRODUCTION TO \\nNUTRITION SCIENCE</td>\n",
       "      <td>[-0.050998192, -0.056592684, -0.05413804, 0.07...</td>\n",
       "    </tr>\n",
       "    <tr>\n",
       "      <th>1</th>\n",
       "      <td>1</td>\n",
       "      <td>Introduction to Nutrition Science</td>\n",
       "      <td>[-0.050998192, -0.056592684, -0.05413804, 0.07...</td>\n",
       "    </tr>\n",
       "    <tr>\n",
       "      <th>2</th>\n",
       "      <td>2</td>\n",
       "      <td>This text is disseminated via the Open Educati...</td>\n",
       "      <td>[-0.019119347, 0.10461532, 0.008642459, 0.0719...</td>\n",
       "    </tr>\n",
       "    <tr>\n",
       "      <th>3</th>\n",
       "      <td>3</td>\n",
       "      <td>Instructors can adopt existing LibreTexts text...</td>\n",
       "      <td>[-0.029113632, 0.010369417, -0.021756086, -0.0...</td>\n",
       "    </tr>\n",
       "    <tr>\n",
       "      <th>4</th>\n",
       "      <td>4</td>\n",
       "      <td>for the construction, customization, and disse...</td>\n",
       "      <td>[-0.017107606, 0.024136158, -0.00488623, -0.00...</td>\n",
       "    </tr>\n",
       "    <tr>\n",
       "      <th>...</th>\n",
       "      <td>...</td>\n",
       "      <td>...</td>\n",
       "      <td>...</td>\n",
       "    </tr>\n",
       "    <tr>\n",
       "      <th>3590</th>\n",
       "      <td>3590</td>\n",
       "      <td>11.7: Food Processing - CC BY-NC-SA 4.0\\n11.8:...</td>\n",
       "      <td>[-0.024376936, -0.00542707, -0.024001742, 0.07...</td>\n",
       "    </tr>\n",
       "    <tr>\n",
       "      <th>3591</th>\n",
       "      <td>3591</td>\n",
       "      <td>3 h t t p s : / / m e d . l i b r e t e x t s ...</td>\n",
       "      <td>[-0.025427796, 0.02301017, -0.011724482, 0.101...</td>\n",
       "    </tr>\n",
       "    <tr>\n",
       "      <th>3592</th>\n",
       "      <td>3592</td>\n",
       "      <td>SA 4.0\\n13.4: Fuel Sources - CC BY-NC-SA 4.0\\n...</td>\n",
       "      <td>[-0.08159753, 0.005391544, -0.04637359, 0.0655...</td>\n",
       "    </tr>\n",
       "    <tr>\n",
       "      <th>3593</th>\n",
       "      <td>3593</td>\n",
       "      <td>14.3: Infancy - CC BY-NC-SA 4.0\\n14.4: Toddler...</td>\n",
       "      <td>[-0.023193209, 0.054620773, -0.033654038, 0.07...</td>\n",
       "    </tr>\n",
       "    <tr>\n",
       "      <th>3594</th>\n",
       "      <td>3594</td>\n",
       "      <td>4.0\\n16.3: The Food Industry - CC BY-NC-SA 4.0...</td>\n",
       "      <td>[0.007158726, 0.029436542, -0.036590938, 0.066...</td>\n",
       "    </tr>\n",
       "  </tbody>\n",
       "</table>\n",
       "<p>3595 rows × 3 columns</p>\n",
       "</div>"
      ],
      "text/plain": [
       "      chunk_id                                               text  \\\n",
       "0            0                INTRODUCTION TO \\nNUTRITION SCIENCE   \n",
       "1            1                  Introduction to Nutrition Science   \n",
       "2            2  This text is disseminated via the Open Educati...   \n",
       "3            3  Instructors can adopt existing LibreTexts text...   \n",
       "4            4  for the construction, customization, and disse...   \n",
       "...        ...                                                ...   \n",
       "3590      3590  11.7: Food Processing - CC BY-NC-SA 4.0\\n11.8:...   \n",
       "3591      3591  3 h t t p s : / / m e d . l i b r e t e x t s ...   \n",
       "3592      3592  SA 4.0\\n13.4: Fuel Sources - CC BY-NC-SA 4.0\\n...   \n",
       "3593      3593  14.3: Infancy - CC BY-NC-SA 4.0\\n14.4: Toddler...   \n",
       "3594      3594  4.0\\n16.3: The Food Industry - CC BY-NC-SA 4.0...   \n",
       "\n",
       "                                              embedding  \n",
       "0     [-0.050998192, -0.056592684, -0.05413804, 0.07...  \n",
       "1     [-0.050998192, -0.056592684, -0.05413804, 0.07...  \n",
       "2     [-0.019119347, 0.10461532, 0.008642459, 0.0719...  \n",
       "3     [-0.029113632, 0.010369417, -0.021756086, -0.0...  \n",
       "4     [-0.017107606, 0.024136158, -0.00488623, -0.00...  \n",
       "...                                                 ...  \n",
       "3590  [-0.024376936, -0.00542707, -0.024001742, 0.07...  \n",
       "3591  [-0.025427796, 0.02301017, -0.011724482, 0.101...  \n",
       "3592  [-0.08159753, 0.005391544, -0.04637359, 0.0655...  \n",
       "3593  [-0.023193209, 0.054620773, -0.033654038, 0.07...  \n",
       "3594  [0.007158726, 0.029436542, -0.036590938, 0.066...  \n",
       "\n",
       "[3595 rows x 3 columns]"
      ]
     },
     "execution_count": 20,
     "metadata": {},
     "output_type": "execute_result"
    }
   ],
   "source": [
    "new_table = db.open_table('new_diet_table')\n",
    "new_table.to_pandas()"
   ]
  },
  {
   "cell_type": "code",
   "execution_count": 21,
   "id": "aa07c41b-3c3b-4321-b7d5-5b73e9d446c6",
   "metadata": {},
   "outputs": [
    {
     "name": "stderr",
     "output_type": "stream",
     "text": [
      "/home/bluemusk/.local/share/virtualenvs/diet-assistant-eO1hxvO4/lib/python3.10/site-packages/transformers/tokenization_utils_base.py:1601: FutureWarning: `clean_up_tokenization_spaces` was not set. It will be set to `True` by default. This behavior will be depracted in transformers v4.45, and will be then set to `False` by default. For more details check this issue: https://github.com/huggingface/transformers/issues/31884\n",
      "  warnings.warn(\n"
     ]
    },
    {
     "data": {
      "text/plain": [
       "[{'text': 'atom. Basically, they are hydrated carbons. The word “carbo” means carbon and “hydrate” means water. Glucose, the most4.1.1\\n[1]\\n4.1.2',\n",
       "  '_distance': 0.4910799562931061},\n",
       " {'text': 'other larger, more slow-releasing carbohydrates. When we eat plants we harvest the energy of glucose to support life’s processes.\\n Figure : Carbohydrate Classification Scheme.\\nCarbohydrates are broken down into the subgroups simple and complex carbohydrates. These subgroups are further categorized\\ninto mono-, di-, and polysaccharides.\\nCarbohydrates are a group of organic compounds containing a ratio of one carbon atom to two hydrogen atoms to one oxygen',\n",
       "  '_distance': 0.5366986989974976},\n",
       " {'text': '4 . 1 . 2 h t t p s : / / m e d . l i b r e t e x t s . o r g / @g o / p a g e / 4 0 5 8 5abundant carbohydrate in the human body, has six carbon atoms, twelve hydrogen atoms, and six oxygen atoms. The chemical\\nformula for glucose is written as . Synonymous with the term carbohydrate is the Greek word “saccharide,” which means\\nsugar. The simplest unit of a carbohydrate is a monosaccharide. Carbohydrates are broadly classified into two subgroups, simple',\n",
       "  '_distance': 0.5929150581359863},\n",
       " {'text': 'Carbohydrates  \\nCarbohydrates are molecules composed of carbon, hydrogen, and oxygen. The major food sources of carbohydrates are grains,\\nmilk, fruits, and starchy vegetables, like potatoes. Non-starchy vegetables also contain carbohydrates, but in lesser quantities.\\nCarbohydrates are broadly classified into two forms based on their chemical structure: simple carbohydrates, often called simple\\nsugars; and complex carbohydrates.\\uf5dcLearning Objectives',\n",
       "  '_distance': 0.5977909564971924},\n",
       " {'text': 'carbohydrates is called glycogen and in plants it is known as starches. Glycogen and starches are slow-releasing carbohydrates.\\nLipids  \\nLipids are also a family of molecules composed of carbon, hydrogen, and oxygen, but unlike carbohydrates, they are insoluble in\\nwater. Lipids are found predominately in butter, oils, meats, dairy products, nuts, and seeds, and in many processed foods. The',\n",
       "  '_distance': 0.6631970405578613}]"
      ]
     },
     "execution_count": 21,
     "metadata": {},
     "output_type": "execute_result"
    }
   ],
   "source": [
    "query = 'What are Carbohydrates?'\n",
    "\n",
    "# Load the embedding model\n",
    "embed_model = SentenceTransformer('all-MiniLM-L6-v2')\n",
    "\n",
    "# Convert the query into a list format\n",
    "query_embedding = embed_model.encode(query).tolist()  \n",
    "\n",
    "# Perform the semantic search\n",
    "semantic_search = new_table.search(query_embedding, query_type='vector', vector_column_name='embedding').limit(5).select(['text']).to_list()\n",
    "semantic_search"
   ]
  },
  {
   "cell_type": "code",
   "execution_count": 22,
   "id": "0bd3fc8f-562b-4ee4-94b6-9a7c989273ed",
   "metadata": {},
   "outputs": [
    {
     "data": {
      "text/plain": [
       "[{'text': 'carbohydrate phyllobacterium neophyllum symbiosis eukaryota faecium florescens eubacteriaceae famoetidae and phylobacteria genus eucalyptus phylum etymology and physiology phylogenetics and molecular biology',\n",
       "  '_score': 9.033582},\n",
       " {'text': 'carbohydrate phyllobacterium neophyllum symbiosis eukaryota faecium florescens eubacteriaceae famoetidae and phylobacteria genus eucalyptus phylum etymology and physiology phylogenetics and pharmacology',\n",
       "  '_score': 8.903423},\n",
       " {'text': 'carbohydrate phyllobacterium neophyllum symbiosis eukaryota faecium florescens eubacteriaceae famoetidae and phylobacteria genus eucalyptus phylum etymology and physiology phylogenetics and biochemistry',\n",
       "  '_score': 8.466606},\n",
       " {'text': 'carbohydrate phyllobacterium neophyllum symbiosis eukaryota faecium florescens eubacteriaceae famoetidae and phylobacteria genus eucalyptus phylum etymology and physiology phylogenetics and classification',\n",
       "  '_score': 7.379971},\n",
       " {'text': 'carbohydrate phyllobacterium neophyllum symbiosis eukaryota faecium florescens eubacteriaceae famoetidae and phylobacteria genus eucalyptus phylum etymology and physiology phylogenetics and ecology',\n",
       "  '_score': 7.127164}]"
      ]
     },
     "execution_count": 22,
     "metadata": {},
     "output_type": "execute_result"
    }
   ],
   "source": [
    "# LLM generated document\n",
    "scored_docs"
   ]
  },
  {
   "cell_type": "markdown",
   "id": "1625d9f3-f5bb-4890-a084-b96bbe5df904",
   "metadata": {},
   "source": [
    "#### Test if LLM response is relevant to embedding retrieval outcome from table for this query"
   ]
  },
  {
   "cell_type": "code",
   "execution_count": 23,
   "id": "8f047aef-9671-4430-9ae1-9498a0adc94c",
   "metadata": {},
   "outputs": [
    {
     "data": {
      "text/plain": [
       "[False, False, False, False, False]"
      ]
     },
     "execution_count": 23,
     "metadata": {},
     "output_type": "execute_result"
    }
   ],
   "source": [
    "relevance_total = []\n",
    "\n",
    "for i in range(5):\n",
    "    relevance = semantic_search[i]['text'] == scored_docs[i]['text']\n",
    "    relevance_total.append(relevance)\n",
    "\n",
    "relevance_total"
   ]
  },
  {
   "cell_type": "code",
   "execution_count": 24,
   "id": "ee09ae76-7e36-416e-aeee-7a0b9441a283",
   "metadata": {},
   "outputs": [
    {
     "name": "stdout",
     "output_type": "stream",
     "text": [
      "Hit Rate: 0\n",
      "MRR: 0\n"
     ]
    }
   ],
   "source": [
    "relevance = retrieval_evaluation(scored_docs, semantic_search)"
   ]
  },
  {
   "cell_type": "markdown",
   "id": "d4c11524-e017-4f09-8520-24ef26d60de2",
   "metadata": {},
   "source": [
    "#### testing relevance for another embedding retrieved query search"
   ]
  },
  {
   "cell_type": "code",
   "execution_count": 25,
   "id": "59455e67-9f9c-4f19-b329-94d3bae33be4",
   "metadata": {},
   "outputs": [
    {
     "data": {
      "text/plain": [
       "[{'text': 'Lipids are a family of organic compounds that are mostly insoluble in water. Composed of fats and oils, lipids are molecules that\\nyield high energy and have a chemical composition mainly of carbon, hydrogen, and oxygen. Lipids perform three primary\\nbiological functions within the body: they serve as structural components of cell membranes, function as energy storehouses, and\\nfunction as important signaling molecules.',\n",
       "  '_distance': 0.3951720595359802},\n",
       " {'text': '5 . 4 . 1 h t t p s : / / m e d . l i b r e t e x t s . o r g / @g o / p a g e / 4 0 5 9 55.4: How Lipids W ork\\nLipids are unique organic compounds, each serving key roles and performing specific functions within the body. As we discuss the\\nvarious types of lipids (triglycerides, phospholipids, and sterols) in further detail, we will compare their structures and functions\\nand examine their impact on human health.\\nTriglycerides Structure and Functions',\n",
       "  '_distance': 0.6296098828315735},\n",
       " {'text': 'transmission, memory storage, and tissue structure. More specifically in the brain, lipids are focal to brain activity in structure and\\nin function. They help form nerve cell membranes, insulate neurons, and facilitate the signaling of electrical impulses throughout\\nthe brain.\\nInsulating and Protecting  \\nDid you know that up to 30 percent of body weight is comprised of fat tissue? Some of this is made up of visceral fat or adipose',\n",
       "  '_distance': 0.6392924785614014},\n",
       " {'text': 'function as important signaling molecules.\\nThe three main types of lipids are triglycerides, phospholipids, and sterols. Triglycerides make up more than 95 percent of lipids in\\nthe diet and are commonly found in fried foods, vegetable oil, butter, whole milk, cheese, cream cheese, and some meats. Naturally\\noccurring triglycerides are found in many foods, including avocados, olives, corn, and nuts. We commonly call the triglycerides in',\n",
       "  '_distance': 0.6700557470321655},\n",
       " {'text': 'three main types of lipids are triglycerides (triacylglycerols), phospholipids, and sterols. The main job of lipids is to provide or\\nstore energy. Lipids provide more energy per gram than carbohydrates (nine kilocalories per gram of lipids versus four kilocalories\\nper gram of carbohydrates). In addition to energy storage, lipids serve as a major component of cell membranes, surround and',\n",
       "  '_distance': 0.671872079372406}]"
      ]
     },
     "execution_count": 25,
     "metadata": {},
     "output_type": "execute_result"
    }
   ],
   "source": [
    "query = 'What are Lipids?'\n",
    "\n",
    "# Load the embedding model\n",
    "embed_model = SentenceTransformer('all-MiniLM-L6-v2')\n",
    "\n",
    "# Convert the query into a list format\n",
    "query_embedding = embed_model.encode(query).tolist()  \n",
    "\n",
    "# Perform the semantic search\n",
    "semantic_search = new_table.search(query_embedding, query_type='vector', vector_column_name='embedding').limit(5).select(['text']).to_list()\n",
    "semantic_search"
   ]
  },
  {
   "cell_type": "markdown",
   "id": "3cd141f5-dd44-4f05-bd99-382063bdf33e",
   "metadata": {},
   "source": [
    "* LLM generated document for this query"
   ]
  },
  {
   "cell_type": "code",
   "execution_count": 26,
   "id": "9b647692-2326-4d86-88c2-8bb442321997",
   "metadata": {},
   "outputs": [
    {
     "data": {
      "text/plain": [
       "[{'text': 'lipids are fats that are produced in the liver by the body s own cells in response to adipose tissue exocrine secretion of adiponectin, a hormone produced by the pancreatic glands, to help regulate blood clotting and blood sugar, and to help maintain homeostasis, or normal body functions, such as blood pressure, heart rate, blood sugar and body temperature.',\n",
       "  '_score': 9.695612},\n",
       " {'text': 'lipids are fats that are produced in the liver by the body s own cells in response to adipose tissue exocrine secretion of adiponectin, a hormone produced by the pancreatic glands, to help regulate blood clotting and blood sugar, and to help maintain homeostasis, or normal body functions, such as blood pressure, blood sugar levels and cholesterol.',\n",
       "  '_score': 9.678729},\n",
       " {'text': 'lipids are fats that are produced in the liver by the body s own cells in response to adipose tissue exocrine secretion of adiponectin, a hormone produced by the pancreatic glands, to help regulate blood clotting and blood sugar, and to help maintain homeostasis, or normal body functions, such as blood pressure, heart rate, blood sugar and blood pressure.',\n",
       "  '_score': 9.506157},\n",
       " {'text': 'lipids are fats that are produced in the liver by the body s own cells in response to adipose tissue exocrine secretion of adiponectin, a hormone produced by the pancreatic glands, to help regulate blood clotting and blood sugar, and to help maintain homeostasis, or normal body functions, such as blood pressure, heart rate, blood sugar levels, etc.',\n",
       "  '_score': 8.879123},\n",
       " {'text': 'lipids are fats that are produced in the liver by the body s own cells in response to adipose tissue exocrine secretion of adiponectin, a hormone produced by the pancreatic glands, to help regulate blood clotting and blood sugar, and to help maintain homeostasis, or normal body functions, such as blood pressure, heart rate, blood sugar and body temperature',\n",
       "  '_score': 7.7575}]"
      ]
     },
     "execution_count": 26,
     "metadata": {},
     "output_type": "execute_result"
    }
   ],
   "source": [
    "query = \"What are Lipids?\"\n",
    "\n",
    "inputs = tokenizer(query, return_tensors=\"pt\").input_ids\n",
    "\n",
    "outputs = model.generate(\n",
    "    inputs, \n",
    "    max_length=300,             \n",
    "    min_length=100,             \n",
    "    num_return_sequences=5,     \n",
    "    num_beams=5,                \n",
    "    no_repeat_ngram_size=3,     \n",
    "    temperature=0.9,            \n",
    "    top_p=0.9,                  \n",
    "    early_stopping=True,        \n",
    "    do_sample=True             \n",
    ")\n",
    "\n",
    "# Decode the generated outputs\n",
    "generated_docs = [tokenizer.decode(output, skip_special_tokens=True) for output in outputs]\n",
    "\n",
    "# Generate random scores and sort them in descending order\n",
    "random_scores = sorted([round(random.uniform(7, 10), 6) for _ in range(len(generated_docs))], reverse=True)\n",
    "\n",
    "# Attach the sorted scores to the generated documents\n",
    "scored_docs = [{\"text\": doc, \"_score\": score} for doc, score in zip(generated_docs, random_scores)]\n",
    "\n",
    "scored_docs"
   ]
  },
  {
   "cell_type": "code",
   "execution_count": 27,
   "id": "986616e6-d3e6-4a0c-ae1d-ae1872fac30e",
   "metadata": {},
   "outputs": [
    {
     "data": {
      "text/plain": [
       "[False, False, False, False, False]"
      ]
     },
     "execution_count": 27,
     "metadata": {},
     "output_type": "execute_result"
    }
   ],
   "source": [
    "relevance_total = []\n",
    "\n",
    "for i in range(5):\n",
    "    relevance = semantic_search[i]['text'] == scored_docs[i]['text']\n",
    "    relevance_total.append(relevance)\n",
    "\n",
    "relevance_total"
   ]
  },
  {
   "cell_type": "code",
   "execution_count": 28,
   "id": "28a8b741-4ebf-415b-bbdb-f5f03c7ab951",
   "metadata": {},
   "outputs": [
    {
     "name": "stdout",
     "output_type": "stream",
     "text": [
      "Hit Rate: 0\n",
      "MRR: 0\n"
     ]
    }
   ],
   "source": [
    "relevance = retrieval_evaluation(scored_docs, semantic_search)"
   ]
  },
  {
   "cell_type": "code",
   "execution_count": null,
   "id": "7c7d49ff-871b-4613-80ed-5ff06e67f486",
   "metadata": {},
   "outputs": [],
   "source": []
  }
 ],
 "metadata": {
  "kernelspec": {
   "display_name": "Python 3 (ipykernel)",
   "language": "python",
   "name": "python3"
  },
  "language_info": {
   "codemirror_mode": {
    "name": "ipython",
    "version": 3
   },
   "file_extension": ".py",
   "mimetype": "text/x-python",
   "name": "python",
   "nbconvert_exporter": "python",
   "pygments_lexer": "ipython3",
   "version": "3.10.12"
  }
 },
 "nbformat": 4,
 "nbformat_minor": 5
}
