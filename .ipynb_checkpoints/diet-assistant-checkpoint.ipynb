{
 "cells": [
  {
   "cell_type": "code",
   "execution_count": 1,
   "id": "5cfe2b15-bd54-4693-a0b9-b5830cf11362",
   "metadata": {},
   "outputs": [],
   "source": [
    "from langchain.document_loaders import PyPDFLoader\n",
    "from langchain.text_splitter import RecursiveCharacterTextSplitter\n",
    "import lancedb\n",
    "from sentence_transformers import SentenceTransformer\n",
    "import pyarrow as pa\n",
    "import pandas as pd"
   ]
  },
  {
   "cell_type": "code",
   "execution_count": 2,
   "id": "400926a5-144a-4bfc-b438-56dd5c766f72",
   "metadata": {},
   "outputs": [],
   "source": [
    "# Function to extract data from the PDF document\n",
    "def load_pdf(data):\n",
    "    loader = PyPDFLoader(data)\n",
    "    documents = loader.load()\n",
    "    return documents"
   ]
  },
  {
   "cell_type": "code",
   "execution_count": 3,
   "id": "74274285-a0bd-4722-b10a-35c169da9cce",
   "metadata": {},
   "outputs": [],
   "source": [
    "# Apply the function on the pdf document\n",
    "extracted_data = load_pdf('Introduction to Nutrition Science, LibreTexts Project.pdf')"
   ]
  },
  {
   "cell_type": "code",
   "execution_count": 4,
   "id": "0ad565d8-153a-408b-9c45-d343a542656d",
   "metadata": {},
   "outputs": [],
   "source": [
    "# Function to split the extrracted pdf documents into chunks using LangChain's text splitter\n",
    "def split_pdf(documents):\n",
    "    text_splitter = RecursiveCharacterTextSplitter(chunk_size=500, chunk_overlap=50)\n",
    "    chunks = text_splitter.split_documents(documents)\n",
    "    return chunks"
   ]
  },
  {
   "cell_type": "code",
   "execution_count": 5,
   "id": "c55b2acd-d2c3-4f93-849a-7da35c82b7b4",
   "metadata": {},
   "outputs": [
    {
     "name": "stdout",
     "output_type": "stream",
     "text": [
      "length of chunks: 3595\n"
     ]
    }
   ],
   "source": [
    "# length of chunks\n",
    "chunks = split_pdf(extracted_data)\n",
    "print(\"length of chunks:\", len(chunks))"
   ]
  },
  {
   "cell_type": "code",
   "execution_count": 6,
   "id": "64f211bc-3381-4a76-8f9a-66e654ebed38",
   "metadata": {},
   "outputs": [
    {
     "data": {
      "text/plain": [
       "('INTRODUCTION TO \\nNUTRITION SCIENCE',\n",
       " '4.0\\n16.3: The Food Industry - CC BY-NC-SA 4.0\\n16.4: The Politics of Food - CC BY-NC-SA 4.0\\n16.5: Food Cost and Inflation - CC BY-NC-SA 4.0\\n16.6: The Issue of Food Security - CC BY-NC-SA 4.0\\n16.7: Nutrition and Your Health - CC BY-NC-SA 4.0\\n16.8: Diets around the World - CC BY-NC-SA 4.0\\n16.E: Food Politics and Perspectives (Exercise) - CC\\nBY-NC-SA 4.0\\nBack Matter - CC BY-NC-SA 4.0\\nIndex - CC BY-NC-SA 4.0\\nGlossary - CC BY-NC-SA 4.0\\nDetailed Licensing - CC BY-NC-SA 4.0')"
      ]
     },
     "execution_count": 6,
     "metadata": {},
     "output_type": "execute_result"
    }
   ],
   "source": [
    "# page content of first page and last page\n",
    "chunks[0].page_content, chunks[3594].page_content"
   ]
  },
  {
   "cell_type": "code",
   "execution_count": 7,
   "id": "36143437-4323-45cc-944a-d9389862cb01",
   "metadata": {},
   "outputs": [],
   "source": [
    "# Function to generate embeddings using SentenceTransformer\n",
    "def generate_embeddings(chunks, model_name: str = \"all-MiniLM-L6-v2\"):\n",
    "    model = SentenceTransformer(model_name)\n",
    "    texts = [chunk.page_content for chunk in chunks]\n",
    "    embeddings = model.encode(texts)\n",
    "    return embeddings"
   ]
  },
  {
   "cell_type": "code",
   "execution_count": 8,
   "id": "b2d07854-2de5-4e2c-9b8c-ae7b93a72845",
   "metadata": {},
   "outputs": [],
   "source": [
    "# Generate embeddings for the chunks\n",
    "embeddings = generate_embeddings(chunks)"
   ]
  },
  {
   "cell_type": "code",
   "execution_count": 9,
   "id": "2995e765-10df-4157-a743-ce9886b29517",
   "metadata": {},
   "outputs": [
    {
     "data": {
      "text/plain": [
       "3595"
      ]
     },
     "execution_count": 9,
     "metadata": {},
     "output_type": "execute_result"
    }
   ],
   "source": [
    "len(embeddings)"
   ]
  },
  {
   "cell_type": "code",
   "execution_count": 10,
   "id": "c7f96cd7-4f44-4cc0-be0c-6519f80ce2cd",
   "metadata": {},
   "outputs": [],
   "source": [
    "#chunks"
   ]
  },
  {
   "cell_type": "code",
   "execution_count": 11,
   "id": "d87148aa-eb4d-472d-b1a2-c40e62b95cbc",
   "metadata": {},
   "outputs": [],
   "source": [
    "#embeddings"
   ]
  },
  {
   "cell_type": "code",
   "execution_count": null,
   "id": "eb9a01e5-5590-4572-a94e-71e0effd09c4",
   "metadata": {},
   "outputs": [],
   "source": []
  },
  {
   "cell_type": "code",
   "execution_count": null,
   "id": "40644789-4d8b-4cb5-8211-01c926f4b4e8",
   "metadata": {},
   "outputs": [],
   "source": []
  },
  {
   "cell_type": "markdown",
   "id": "ccf62158-1f62-4153-bee2-278cd49bca83",
   "metadata": {},
   "source": [
    "#### Create a Lance database and insert the text and embeddings into it"
   ]
  },
  {
   "cell_type": "code",
   "execution_count": 17,
   "id": "92759686-1cec-4278-bda3-fe4c6a999f54",
   "metadata": {},
   "outputs": [],
   "source": [
    "import numpy as np\n",
    "\n",
    "def prepare_embeddings(embeddings, fixed_size):\n",
    "    prepared_embeddings = []\n",
    "    for embedding in embeddings:\n",
    "        if len(embedding) > fixed_size:\n",
    "            # Truncate if longer\n",
    "            prepared_embedding = embedding[:fixed_size]\n",
    "        elif len(embedding) < fixed_size:\n",
    "            # Pad if shorter\n",
    "            prepared_embedding = embedding + [0.0] * (fixed_size - len(embedding))\n",
    "        else:\n",
    "            prepared_embedding = embedding\n",
    "        prepared_embeddings.append(prepared_embedding)\n",
    "    return prepared_embeddings\n",
    "\n",
    "# Example fixed size (must match what LanceDB expects)\n",
    "fixed_size = 384\n",
    "\n",
    "# Prepare the embeddings\n",
    "prepared_embeddings = prepare_embeddings(embeddings, fixed_size)"
   ]
  },
  {
   "cell_type": "code",
   "execution_count": 18,
   "id": "0a49ed78-3a28-4786-b12a-2356575d3d39",
   "metadata": {},
   "outputs": [],
   "source": [
    "def load_chunks_into_lancedb(chunks, embeddings, db_path: str, table_name: str):\n",
    "    # Connect to LanceDB\n",
    "    db = lancedb.connect(db_path)\n",
    "    \n",
    "    # Define the schema using list_\n",
    "    schema = pa.schema([\n",
    "        (\"chunk_id\", pa.int32()),\n",
    "        (\"text\", pa.string()),\n",
    "        (\"embedding\", pa.list_(pa.float32()))  # Use list_\n",
    "    ])\n",
    "    \n",
    "    # Create the table\n",
    "    if table_name not in db.table_names():\n",
    "        db.create_table(table_name, schema=schema)\n",
    "    \n",
    "    # Prepare data for insertion\n",
    "    data = {\n",
    "        \"chunk_id\": [],\n",
    "        \"text\": [],\n",
    "        \"embedding\": []\n",
    "    }\n",
    "    \n",
    "    for i, (chunk, embedding) in enumerate(zip(chunks, prepared_embeddings)):\n",
    "        data[\"chunk_id\"].append(i)\n",
    "        data[\"text\"].append(chunk.page_content)\n",
    "        data[\"embedding\"].append(pa.array(embedding, type=pa.float32()))\n",
    "    \n",
    "    df = pd.DataFrame(data)\n",
    "\n",
    "    # Insert into LanceDB\n",
    "    table = db.open_table(table_name)\n",
    "\n",
    "    print(f\"Inserted {len(chunks)} chunks with embeddings into LanceDB table '{table_name}'.\")\n",
    "\n",
    "    return df, table\n"
   ]
  },
  {
   "cell_type": "code",
   "execution_count": 19,
   "id": "4b38db91-e9e7-4c82-b6d7-aa08184a8411",
   "metadata": {},
   "outputs": [
    {
     "name": "stdout",
     "output_type": "stream",
     "text": [
      "Inserted 3595 chunks with embeddings into LanceDB table 'diet_data'.\n"
     ]
    }
   ],
   "source": [
    "db_path = \"lancedb\"\n",
    "table_name = \"diet_data\"\n",
    "\n",
    "# Load the chunks and embeddings into LanceDB\n",
    "df, table = load_chunks_into_lancedb(chunks, embeddings, db_path, table_name)"
   ]
  },
  {
   "cell_type": "code",
   "execution_count": 20,
   "id": "d58fd92c-a553-4791-9f11-cd6442ff630a",
   "metadata": {},
   "outputs": [
    {
     "data": {
      "text/html": [
       "<div>\n",
       "<style scoped>\n",
       "    .dataframe tbody tr th:only-of-type {\n",
       "        vertical-align: middle;\n",
       "    }\n",
       "\n",
       "    .dataframe tbody tr th {\n",
       "        vertical-align: top;\n",
       "    }\n",
       "\n",
       "    .dataframe thead th {\n",
       "        text-align: right;\n",
       "    }\n",
       "</style>\n",
       "<table border=\"1\" class=\"dataframe\">\n",
       "  <thead>\n",
       "    <tr style=\"text-align: right;\">\n",
       "      <th></th>\n",
       "      <th>chunk_id</th>\n",
       "      <th>text</th>\n",
       "      <th>embedding</th>\n",
       "    </tr>\n",
       "  </thead>\n",
       "  <tbody>\n",
       "    <tr>\n",
       "      <th>0</th>\n",
       "      <td>0</td>\n",
       "      <td>INTRODUCTION TO \\nNUTRITION SCIENCE</td>\n",
       "      <td>(-0.050998229533433914, -0.05659276247024536, ...</td>\n",
       "    </tr>\n",
       "    <tr>\n",
       "      <th>1</th>\n",
       "      <td>1</td>\n",
       "      <td>Introduction to Nutrition Science</td>\n",
       "      <td>(-0.050998229533433914, -0.05659276247024536, ...</td>\n",
       "    </tr>\n",
       "    <tr>\n",
       "      <th>2</th>\n",
       "      <td>2</td>\n",
       "      <td>This text is disseminated via the Open Educati...</td>\n",
       "      <td>(-0.01911933906376362, 0.10461527109146118, 0....</td>\n",
       "    </tr>\n",
       "    <tr>\n",
       "      <th>3</th>\n",
       "      <td>3</td>\n",
       "      <td>Instructors can adopt existing LibreTexts text...</td>\n",
       "      <td>(-0.029113683849573135, 0.010369493626058102, ...</td>\n",
       "    </tr>\n",
       "    <tr>\n",
       "      <th>4</th>\n",
       "      <td>4</td>\n",
       "      <td>for the construction, customization, and disse...</td>\n",
       "      <td>(-0.01710761897265911, 0.02413620799779892, -0...</td>\n",
       "    </tr>\n",
       "  </tbody>\n",
       "</table>\n",
       "</div>"
      ],
      "text/plain": [
       "   chunk_id                                               text  \\\n",
       "0         0                INTRODUCTION TO \\nNUTRITION SCIENCE   \n",
       "1         1                  Introduction to Nutrition Science   \n",
       "2         2  This text is disseminated via the Open Educati...   \n",
       "3         3  Instructors can adopt existing LibreTexts text...   \n",
       "4         4  for the construction, customization, and disse...   \n",
       "\n",
       "                                           embedding  \n",
       "0  (-0.050998229533433914, -0.05659276247024536, ...  \n",
       "1  (-0.050998229533433914, -0.05659276247024536, ...  \n",
       "2  (-0.01911933906376362, 0.10461527109146118, 0....  \n",
       "3  (-0.029113683849573135, 0.010369493626058102, ...  \n",
       "4  (-0.01710761897265911, 0.02413620799779892, -0...  "
      ]
     },
     "execution_count": 20,
     "metadata": {},
     "output_type": "execute_result"
    }
   ],
   "source": [
    "df.head()"
   ]
  },
  {
   "cell_type": "code",
   "execution_count": 28,
   "id": "8685246a-53c6-4d2a-aa64-f4998d5af255",
   "metadata": {},
   "outputs": [
    {
     "data": {
      "text/plain": [
       "0       (-0.050998229533433914, -0.05659276247024536, ...\n",
       "1       (-0.050998229533433914, -0.05659276247024536, ...\n",
       "2       (-0.01911933906376362, 0.10461527109146118, 0....\n",
       "3       (-0.029113683849573135, 0.010369493626058102, ...\n",
       "4       (-0.01710761897265911, 0.02413620799779892, -0...\n",
       "                              ...                        \n",
       "3590    (-0.024376945570111275, -0.005427005235105753,...\n",
       "3591    (-0.02542775683104992, 0.023010224103927612, -...\n",
       "3592    (-0.08159744739532471, 0.005391538608819246, -...\n",
       "3593    (-0.023193251341581345, 0.054620761424303055, ...\n",
       "3594    (0.007158744148910046, 0.029436510056257248, -...\n",
       "Name: embedding, Length: 3595, dtype: object"
      ]
     },
     "execution_count": 28,
     "metadata": {},
     "output_type": "execute_result"
    }
   ],
   "source": [
    "df['embedding']"
   ]
  },
  {
   "cell_type": "code",
   "execution_count": null,
   "id": "77198631-4c88-4f35-98ba-ebeebbca4c45",
   "metadata": {},
   "outputs": [],
   "source": []
  },
  {
   "cell_type": "code",
   "execution_count": null,
   "id": "e9993a9e-0a4d-49f2-8ff5-bdc0ca761490",
   "metadata": {},
   "outputs": [],
   "source": []
  },
  {
   "cell_type": "markdown",
   "id": "779f331e-5555-4ceb-8ffb-bb7ea2c29ccb",
   "metadata": {},
   "source": [
    "#### Creating an index and perform semantic search query retrieval"
   ]
  },
  {
   "cell_type": "code",
   "execution_count": null,
   "id": "510e8ed4-57d0-4737-9990-541909698b4e",
   "metadata": {},
   "outputs": [],
   "source": []
  },
  {
   "cell_type": "code",
   "execution_count": null,
   "id": "1e02c43e-4f56-4636-87b8-cb9616ee510e",
   "metadata": {},
   "outputs": [],
   "source": []
  },
  {
   "cell_type": "code",
   "execution_count": null,
   "id": "d7b71ac6-8141-4360-8869-8a8daa81995f",
   "metadata": {},
   "outputs": [],
   "source": []
  },
  {
   "cell_type": "code",
   "execution_count": 18,
   "id": "7ba31fcd-8b28-4542-af47-45ac3e983991",
   "metadata": {},
   "outputs": [],
   "source": [
    "import time"
   ]
  },
  {
   "cell_type": "code",
   "execution_count": 31,
   "id": "3f988e1f-8ab3-436d-9a6f-6644bab57046",
   "metadata": {},
   "outputs": [],
   "source": [
    "# Connect to LanceDB\n",
    "db = lancedb.connect(db_path)\n",
    "\n",
    "# Open the table\n",
    "table = db.open_table(table_name)\n",
    "\n",
    "# Create an index for the embedding column\n",
    "table.create_index(vector_column_name='embedding', index_type=\"IVF_PQ\")\n"
   ]
  },
  {
   "cell_type": "code",
   "execution_count": 32,
   "id": "91208421-eaa8-4941-be8c-f3d09ab861f5",
   "metadata": {},
   "outputs": [],
   "source": []
  },
  {
   "cell_type": "code",
   "execution_count": 33,
   "id": "7bc5d563-5c69-4730-b5f5-9193626fe91f",
   "metadata": {},
   "outputs": [
    {
     "name": "stdout",
     "output_type": "stream",
     "text": [
      "Inserted 3595 chunks with embeddings into LanceDB table 'diet_data'.\n"
     ]
    }
   ],
   "source": [
    "db_path = \"lancedb\"\n",
    "table_name = \"diet_data\"\n",
    "\n",
    "# Load the chunks and embeddings into LanceDB\n",
    "df, table = load_chunks_into_lancedb(chunks, embeddings, db_path, table_name)"
   ]
  },
  {
   "cell_type": "code",
   "execution_count": null,
   "id": "78c28c52-5044-4d60-a155-04ead299749a",
   "metadata": {},
   "outputs": [],
   "source": [
    "def load_chunks_into_lancedb(chunks, embeddings, db_path: str, table_name: str):\n",
    "    \n",
    "    # Connecting to LanceDB\n",
    "    db = lancedb.connect(db_path)\n",
    "    \n",
    "    # Define the schema using pyarrow\n",
    "    schema = pa.schema([\n",
    "        (\"chunk_id\", pa.int32()),\n",
    "        (\"text\", pa.string()),\n",
    "        (\"embedding\", pa.list_(pa.float32()))\n",
    "    ])\n",
    "\n",
    "    # Create a table for the lancedb\n",
    "    if table_name not in db.table_names():\n",
    "        db.create_table(table_name, schema=schema)\n",
    "    \n",
    "    # Create a DataFrame from chunks and embeddings\n",
    "    data = {\n",
    "        \"chunk_id\": [],\n",
    "        \"text\": [],\n",
    "        \"embedding\": []\n",
    "    }\n",
    "    \n",
    "    for i, (chunk, embedding) in enumerate(zip(chunks, embeddings)):\n",
    "        data[\"chunk_id\"].append(i)\n",
    "        data[\"text\"].append(chunk.page_content)\n",
    "        data[\"embedding\"].append(embedding.tolist())  # Convert numpy array to list\n",
    "    \n",
    "    df = pd.DataFrame(data)\n",
    "\n",
    "    print(db.table_names())\n",
    "    db_table = (db.open_table(table_name)).to_pandas()\n",
    "    table = db[table_name]\n",
    "    \n",
    "    print(f\"Inserted {len(chunks)} chunks with embeddings into LanceDB table '{table_name}'.\")\n",
    "\n",
    "    return df, db_table, table"
   ]
  },
  {
   "cell_type": "code",
   "execution_count": null,
   "id": "f80c2bd1-7ecc-4d70-a9ff-4da004d0ed05",
   "metadata": {},
   "outputs": [],
   "source": [
    "db_path = \"lancedb\"\n",
    "table_name = \"diet_data\"\n",
    "\n",
    "# Load the chunks and embeddings into LanceDB\n",
    "df, table, db_table = load_chunks_into_lancedb(chunks, embeddings, db_path, table_name)"
   ]
  },
  {
   "cell_type": "code",
   "execution_count": null,
   "id": "0ce5f31b-89e8-4955-9360-0118d60ad8f6",
   "metadata": {},
   "outputs": [],
   "source": [
    "# saving the dataframe df\n",
    "df.to_csv('diet-data.csv', index=False, escapechar='\\\\')"
   ]
  }
 ],
 "metadata": {
  "kernelspec": {
   "display_name": "Python 3 (ipykernel)",
   "language": "python",
   "name": "python3"
  },
  "language_info": {
   "codemirror_mode": {
    "name": "ipython",
    "version": 3
   },
   "file_extension": ".py",
   "mimetype": "text/x-python",
   "name": "python",
   "nbconvert_exporter": "python",
   "pygments_lexer": "ipython3",
   "version": "3.10.13"
  }
 },
 "nbformat": 4,
 "nbformat_minor": 5
}
