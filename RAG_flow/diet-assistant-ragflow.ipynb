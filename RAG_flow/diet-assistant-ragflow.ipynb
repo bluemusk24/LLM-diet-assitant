{
 "cells": [
  {
   "cell_type": "code",
   "execution_count": 1,
   "id": "5cfe2b15-bd54-4693-a0b9-b5830cf11362",
   "metadata": {},
   "outputs": [],
   "source": [
    "from langchain.document_loaders import PyPDFLoader\n",
    "from langchain.text_splitter import RecursiveCharacterTextSplitter\n",
    "import lancedb\n",
    "from sentence_transformers import SentenceTransformer\n",
    "import pyarrow as pa\n",
    "import pandas as pd\n",
    "import numpy as np\n",
    "from tqdm.auto import tqdm\n",
    "from transformers import AutoTokenizer, AutoModelForSeq2SeqLM\n",
    "import torch"
   ]
  },
  {
   "cell_type": "code",
   "execution_count": 2,
   "id": "400926a5-144a-4bfc-b438-56dd5c766f72",
   "metadata": {},
   "outputs": [],
   "source": [
    "# Extract data from the PDF document\n",
    "def load_pdf(data):\n",
    "    loader = PyPDFLoader(data)\n",
    "    documents = loader.load()\n",
    "    return documents"
   ]
  },
  {
   "cell_type": "code",
   "execution_count": 3,
   "id": "74274285-a0bd-4722-b10a-35c169da9cce",
   "metadata": {},
   "outputs": [
    {
     "data": {
      "application/vnd.jupyter.widget-view+json": {
       "model_id": "241d4d2a981d4505baf5f221afea1ce2",
       "version_major": 2,
       "version_minor": 0
      },
      "text/plain": [
       "  0%|          | 0/523 [00:00<?, ?it/s]"
      ]
     },
     "metadata": {},
     "output_type": "display_data"
    }
   ],
   "source": [
    "# Apply the function on the pdf document\n",
    "extracted_data = tqdm(load_pdf('Introduction to Nutrition Science, LibreTexts Project.pdf'))"
   ]
  },
  {
   "cell_type": "code",
   "execution_count": 4,
   "id": "0ad565d8-153a-408b-9c45-d343a542656d",
   "metadata": {},
   "outputs": [],
   "source": [
    "# Split the extracted pdf documents into chunks using LangChain's text splitter\n",
    "def split_pdf(documents):\n",
    "    text_splitter = RecursiveCharacterTextSplitter(chunk_size=500, chunk_overlap=50)\n",
    "    chunks = text_splitter.split_documents(documents)\n",
    "    return chunks"
   ]
  },
  {
   "cell_type": "code",
   "execution_count": 5,
   "id": "c55b2acd-d2c3-4f93-849a-7da35c82b7b4",
   "metadata": {},
   "outputs": [
    {
     "name": "stdout",
     "output_type": "stream",
     "text": [
      "length of chunks: 3595\n"
     ]
    }
   ],
   "source": [
    "# length of chunks\n",
    "chunks = split_pdf(extracted_data)\n",
    "print(\"length of chunks:\", len(chunks))"
   ]
  },
  {
   "cell_type": "code",
   "execution_count": 6,
   "id": "64f211bc-3381-4a76-8f9a-66e654ebed38",
   "metadata": {},
   "outputs": [
    {
     "data": {
      "text/plain": [
       "('INTRODUCTION TO \\nNUTRITION SCIENCE',\n",
       " '4.0\\n16.3: The Food Industry - CC BY-NC-SA 4.0\\n16.4: The Politics of Food - CC BY-NC-SA 4.0\\n16.5: Food Cost and Inflation - CC BY-NC-SA 4.0\\n16.6: The Issue of Food Security - CC BY-NC-SA 4.0\\n16.7: Nutrition and Your Health - CC BY-NC-SA 4.0\\n16.8: Diets around the World - CC BY-NC-SA 4.0\\n16.E: Food Politics and Perspectives (Exercise) - CC\\nBY-NC-SA 4.0\\nBack Matter - CC BY-NC-SA 4.0\\nIndex - CC BY-NC-SA 4.0\\nGlossary - CC BY-NC-SA 4.0\\nDetailed Licensing - CC BY-NC-SA 4.0')"
      ]
     },
     "execution_count": 6,
     "metadata": {},
     "output_type": "execute_result"
    }
   ],
   "source": [
    "# page content of first page and last page\n",
    "chunks[0].page_content, chunks[3594].page_content"
   ]
  },
  {
   "cell_type": "code",
   "execution_count": 7,
   "id": "36143437-4323-45cc-944a-d9389862cb01",
   "metadata": {},
   "outputs": [],
   "source": [
    "# Generate embeddings using SentenceTransformer\n",
    "def generate_embeddings(chunks, model_name: str = \"all-MiniLM-L6-v2\"):\n",
    "    embed_model = SentenceTransformer(model_name)\n",
    "    texts = [chunk.page_content for chunk in chunks]\n",
    "    embeddings = embed_model.encode(texts)\n",
    "    return embeddings"
   ]
  },
  {
   "cell_type": "code",
   "execution_count": 8,
   "id": "b2d07854-2de5-4e2c-9b8c-ae7b93a72845",
   "metadata": {},
   "outputs": [
    {
     "data": {
      "application/vnd.jupyter.widget-view+json": {
       "model_id": "a61cd2d508fe4b108a682dd46e36d232",
       "version_major": 2,
       "version_minor": 0
      },
      "text/plain": [
       "modules.json:   0%|          | 0.00/349 [00:00<?, ?B/s]"
      ]
     },
     "metadata": {},
     "output_type": "display_data"
    },
    {
     "data": {
      "application/vnd.jupyter.widget-view+json": {
       "model_id": "6a5986f7399d4b469a6ecbc333369995",
       "version_major": 2,
       "version_minor": 0
      },
      "text/plain": [
       "config_sentence_transformers.json:   0%|          | 0.00/116 [00:00<?, ?B/s]"
      ]
     },
     "metadata": {},
     "output_type": "display_data"
    },
    {
     "data": {
      "application/vnd.jupyter.widget-view+json": {
       "model_id": "27bab54e1fd44884998800f39da66af4",
       "version_major": 2,
       "version_minor": 0
      },
      "text/plain": [
       "README.md:   0%|          | 0.00/10.7k [00:00<?, ?B/s]"
      ]
     },
     "metadata": {},
     "output_type": "display_data"
    },
    {
     "data": {
      "application/vnd.jupyter.widget-view+json": {
       "model_id": "8699b62757da4921bc03fea8e6d64e2a",
       "version_major": 2,
       "version_minor": 0
      },
      "text/plain": [
       "sentence_bert_config.json:   0%|          | 0.00/53.0 [00:00<?, ?B/s]"
      ]
     },
     "metadata": {},
     "output_type": "display_data"
    },
    {
     "data": {
      "application/vnd.jupyter.widget-view+json": {
       "model_id": "cabfa3d8923e47af96ae682bbefbcc22",
       "version_major": 2,
       "version_minor": 0
      },
      "text/plain": [
       "config.json:   0%|          | 0.00/612 [00:00<?, ?B/s]"
      ]
     },
     "metadata": {},
     "output_type": "display_data"
    },
    {
     "data": {
      "application/vnd.jupyter.widget-view+json": {
       "model_id": "58772a7cd1b54de7b29c77106b8ac6ac",
       "version_major": 2,
       "version_minor": 0
      },
      "text/plain": [
       "model.safetensors:   0%|          | 0.00/90.9M [00:00<?, ?B/s]"
      ]
     },
     "metadata": {},
     "output_type": "display_data"
    },
    {
     "data": {
      "application/vnd.jupyter.widget-view+json": {
       "model_id": "fe15014b52ab4924acb2a3fb7da0a0ea",
       "version_major": 2,
       "version_minor": 0
      },
      "text/plain": [
       "tokenizer_config.json:   0%|          | 0.00/350 [00:00<?, ?B/s]"
      ]
     },
     "metadata": {},
     "output_type": "display_data"
    },
    {
     "data": {
      "application/vnd.jupyter.widget-view+json": {
       "model_id": "6fec7c36d24f4c66b3f2b2e2029b9950",
       "version_major": 2,
       "version_minor": 0
      },
      "text/plain": [
       "vocab.txt:   0%|          | 0.00/232k [00:00<?, ?B/s]"
      ]
     },
     "metadata": {},
     "output_type": "display_data"
    },
    {
     "data": {
      "application/vnd.jupyter.widget-view+json": {
       "model_id": "b2184e9948e74145ab6d7f63212d15e5",
       "version_major": 2,
       "version_minor": 0
      },
      "text/plain": [
       "tokenizer.json:   0%|          | 0.00/466k [00:00<?, ?B/s]"
      ]
     },
     "metadata": {},
     "output_type": "display_data"
    },
    {
     "data": {
      "application/vnd.jupyter.widget-view+json": {
       "model_id": "9f888704fb244d5aa21b3c708f27d64b",
       "version_major": 2,
       "version_minor": 0
      },
      "text/plain": [
       "special_tokens_map.json:   0%|          | 0.00/112 [00:00<?, ?B/s]"
      ]
     },
     "metadata": {},
     "output_type": "display_data"
    },
    {
     "name": "stderr",
     "output_type": "stream",
     "text": [
      "/home/bluemusk/.local/share/virtualenvs/diet-assistant-eO1hxvO4/lib/python3.10/site-packages/transformers/tokenization_utils_base.py:1601: FutureWarning: `clean_up_tokenization_spaces` was not set. It will be set to `True` by default. This behavior will be depracted in transformers v4.45, and will be then set to `False` by default. For more details check this issue: https://github.com/huggingface/transformers/issues/31884\n",
      "  warnings.warn(\n"
     ]
    },
    {
     "data": {
      "application/vnd.jupyter.widget-view+json": {
       "model_id": "912e7bce1782417b8a18a9adc6da341c",
       "version_major": 2,
       "version_minor": 0
      },
      "text/plain": [
       "1_Pooling/config.json:   0%|          | 0.00/190 [00:00<?, ?B/s]"
      ]
     },
     "metadata": {},
     "output_type": "display_data"
    },
    {
     "data": {
      "application/vnd.jupyter.widget-view+json": {
       "model_id": "e192aa717a1d46459dfce2b7bd10255c",
       "version_major": 2,
       "version_minor": 0
      },
      "text/plain": [
       "  0%|          | 0/3595 [00:00<?, ?it/s]"
      ]
     },
     "metadata": {},
     "output_type": "display_data"
    }
   ],
   "source": [
    "# Generate embeddings for the chunks\n",
    "embeddings = tqdm(generate_embeddings(chunks))"
   ]
  },
  {
   "cell_type": "code",
   "execution_count": 9,
   "id": "2995e765-10df-4157-a743-ce9886b29517",
   "metadata": {},
   "outputs": [
    {
     "data": {
      "text/plain": [
       "3595"
      ]
     },
     "execution_count": 9,
     "metadata": {},
     "output_type": "execute_result"
    }
   ],
   "source": [
    "len(embeddings)"
   ]
  },
  {
   "cell_type": "markdown",
   "id": "ccf62158-1f62-4153-bee2-278cd49bca83",
   "metadata": {},
   "source": [
    "#### Create a Lance database and insert the text and embeddings into it"
   ]
  },
  {
   "cell_type": "code",
   "execution_count": 10,
   "id": "89bc0650-c674-400d-b78b-19b16fc579cc",
   "metadata": {},
   "outputs": [],
   "source": [
    "def load_chunks_into_lancedb(chunks, embeddings, db_path: str, table_name: str):\n",
    "    \n",
    "    # Connect to LanceDB\n",
    "    db = lancedb.connect(db_path)\n",
    "    \n",
    "    # create a custom schema using pyarrow\n",
    "    custom_schema = pa.schema([\n",
    "        pa.field('chunk_id', pa.int32()),\n",
    "        pa.field('text', pa.string()),\n",
    "        pa.field('embedding', pa.list_(pa.float64()))\n",
    "    ])\n",
    "\n",
    "    # Create a table for the lancedb\n",
    "    if table_name not in db.table_names():\n",
    "        table = db.create_table(table_name, schema=custom_schema)\n",
    "    \n",
    "    # Create a DataFrame from chunks and embedding\n",
    "    data = {\n",
    "        \"chunk_id\": [],\n",
    "        \"text\": [],\n",
    "        \"embedding\": []\n",
    "    }\n",
    "\n",
    "    for i, (chunk, embedding) in enumerate(zip(chunks, embeddings)):\n",
    "        data[\"chunk_id\"].append(i)\n",
    "        data[\"text\"].append(chunk.page_content)\n",
    "        data[\"embedding\"].append(embedding.tolist()) \n",
    "\n",
    "    df = pd.DataFrame(data)\n",
    "\n",
    "    print(db.table_names())\n",
    "    print(f\"Inserted {len(chunks)} chunks with embeddings into LanceDB table '{table_name}'.\")\n",
    "\n",
    "    return df, table"
   ]
  },
  {
   "cell_type": "markdown",
   "id": "b9fb72f3-c492-4f50-938a-56318eb39a82",
   "metadata": {},
   "source": [
    "* Load the chunks and embeddings into LanceDB function"
   ]
  },
  {
   "cell_type": "code",
   "execution_count": 11,
   "id": "bdcccca7-d0ab-4fcd-879a-934f46876ed8",
   "metadata": {},
   "outputs": [
    {
     "name": "stdout",
     "output_type": "stream",
     "text": [
      "['diet_table']\n",
      "Inserted 3595 chunks with embeddings into LanceDB table 'diet_table'.\n"
     ]
    },
    {
     "data": {
      "application/vnd.jupyter.widget-view+json": {
       "model_id": "7bae2124c9194de18f5656138c17ec3e",
       "version_major": 2,
       "version_minor": 0
      },
      "text/plain": [
       "  0%|          | 0/2 [00:00<?, ?it/s]"
      ]
     },
     "metadata": {},
     "output_type": "display_data"
    }
   ],
   "source": [
    "# linux-native path on WSL\n",
    "db_path = \"/home/bluemusk/diet-assistant/lancedb\"   \n",
    "#db_path = '/mnt/c/Users/emman/desktop/diet-assistant/lancedb'\n",
    "table_name = \"diet_table\"\n",
    "\n",
    "df, table = tqdm(load_chunks_into_lancedb(chunks, embeddings, db_path, table_name))"
   ]
  },
  {
   "cell_type": "code",
   "execution_count": 12,
   "id": "b2962672-807b-439f-abef-bfc6b515bcb4",
   "metadata": {},
   "outputs": [
    {
     "data": {
      "text/html": [
       "<div>\n",
       "<style scoped>\n",
       "    .dataframe tbody tr th:only-of-type {\n",
       "        vertical-align: middle;\n",
       "    }\n",
       "\n",
       "    .dataframe tbody tr th {\n",
       "        vertical-align: top;\n",
       "    }\n",
       "\n",
       "    .dataframe thead th {\n",
       "        text-align: right;\n",
       "    }\n",
       "</style>\n",
       "<table border=\"1\" class=\"dataframe\">\n",
       "  <thead>\n",
       "    <tr style=\"text-align: right;\">\n",
       "      <th></th>\n",
       "      <th>chunk_id</th>\n",
       "      <th>text</th>\n",
       "      <th>embedding</th>\n",
       "    </tr>\n",
       "  </thead>\n",
       "  <tbody>\n",
       "  </tbody>\n",
       "</table>\n",
       "</div>"
      ],
      "text/plain": [
       "Empty DataFrame\n",
       "Columns: [chunk_id, text, embedding]\n",
       "Index: []"
      ]
     },
     "execution_count": 12,
     "metadata": {},
     "output_type": "execute_result"
    }
   ],
   "source": [
    "# get the table columns\n",
    "table.to_pandas()"
   ]
  },
  {
   "cell_type": "code",
   "execution_count": 13,
   "id": "bd2ab164-2550-4e59-944e-3362ab9ecea1",
   "metadata": {},
   "outputs": [
    {
     "data": {
      "text/html": [
       "<div>\n",
       "<style scoped>\n",
       "    .dataframe tbody tr th:only-of-type {\n",
       "        vertical-align: middle;\n",
       "    }\n",
       "\n",
       "    .dataframe tbody tr th {\n",
       "        vertical-align: top;\n",
       "    }\n",
       "\n",
       "    .dataframe thead th {\n",
       "        text-align: right;\n",
       "    }\n",
       "</style>\n",
       "<table border=\"1\" class=\"dataframe\">\n",
       "  <thead>\n",
       "    <tr style=\"text-align: right;\">\n",
       "      <th></th>\n",
       "      <th>chunk_id</th>\n",
       "      <th>text</th>\n",
       "      <th>embedding</th>\n",
       "    </tr>\n",
       "  </thead>\n",
       "  <tbody>\n",
       "    <tr>\n",
       "      <th>0</th>\n",
       "      <td>0</td>\n",
       "      <td>INTRODUCTION TO \\nNUTRITION SCIENCE</td>\n",
       "      <td>[-0.05099819228053093, -0.056592684239149094, ...</td>\n",
       "    </tr>\n",
       "    <tr>\n",
       "      <th>1</th>\n",
       "      <td>1</td>\n",
       "      <td>Introduction to Nutrition Science</td>\n",
       "      <td>[-0.05099819228053093, -0.056592684239149094, ...</td>\n",
       "    </tr>\n",
       "    <tr>\n",
       "      <th>2</th>\n",
       "      <td>2</td>\n",
       "      <td>This text is disseminated via the Open Educati...</td>\n",
       "      <td>[-0.019119346514344215, 0.10461532324552536, 0...</td>\n",
       "    </tr>\n",
       "    <tr>\n",
       "      <th>3</th>\n",
       "      <td>3</td>\n",
       "      <td>Instructors can adopt existing LibreTexts text...</td>\n",
       "      <td>[-0.029113631695508957, 0.010369417257606983, ...</td>\n",
       "    </tr>\n",
       "    <tr>\n",
       "      <th>4</th>\n",
       "      <td>4</td>\n",
       "      <td>for the construction, customization, and disse...</td>\n",
       "      <td>[-0.017107605934143066, 0.02413615770637989, -...</td>\n",
       "    </tr>\n",
       "  </tbody>\n",
       "</table>\n",
       "</div>"
      ],
      "text/plain": [
       "   chunk_id                                               text  \\\n",
       "0         0                INTRODUCTION TO \\nNUTRITION SCIENCE   \n",
       "1         1                  Introduction to Nutrition Science   \n",
       "2         2  This text is disseminated via the Open Educati...   \n",
       "3         3  Instructors can adopt existing LibreTexts text...   \n",
       "4         4  for the construction, customization, and disse...   \n",
       "\n",
       "                                           embedding  \n",
       "0  [-0.05099819228053093, -0.056592684239149094, ...  \n",
       "1  [-0.05099819228053093, -0.056592684239149094, ...  \n",
       "2  [-0.019119346514344215, 0.10461532324552536, 0...  \n",
       "3  [-0.029113631695508957, 0.010369417257606983, ...  \n",
       "4  [-0.017107605934143066, 0.02413615770637989, -...  "
      ]
     },
     "execution_count": 13,
     "metadata": {},
     "output_type": "execute_result"
    }
   ],
   "source": [
    "# get the dataframe\n",
    "df.head()"
   ]
  },
  {
   "cell_type": "code",
   "execution_count": 14,
   "id": "20fcd46f-3e93-4cc6-9429-c0b7079d90d8",
   "metadata": {},
   "outputs": [],
   "source": [
    "# save the dataframe df\n",
    "df.to_csv('diet-data.csv', index=False, escapechar='\\\\')"
   ]
  },
  {
   "cell_type": "markdown",
   "id": "2dcd7695-6aac-4f9d-8d0a-d08af4d33d86",
   "metadata": {},
   "source": [
    "* load dataframe into table"
   ]
  },
  {
   "cell_type": "code",
   "execution_count": 15,
   "id": "97743ff9-3ec1-4dc3-96f5-078ee8386f3b",
   "metadata": {},
   "outputs": [],
   "source": [
    "def add_dataframe_to_table(dataframe):\n",
    "    # add dataframe to table\n",
    "    table.add(dataframe)\n",
    "    \n",
    "    print(f\"Added {len(chunks)} chunks and {len(embeddings)} embeddings to the table.\")\n",
    "    return table"
   ]
  },
  {
   "cell_type": "code",
   "execution_count": 16,
   "id": "8eb5cb31-4d8c-439f-8714-05abd652b736",
   "metadata": {},
   "outputs": [
    {
     "name": "stdout",
     "output_type": "stream",
     "text": [
      "Added 3595 chunks and 3595 embeddings to the table.\n"
     ]
    }
   ],
   "source": [
    "table = add_dataframe_to_table(df)"
   ]
  },
  {
   "cell_type": "code",
   "execution_count": 17,
   "id": "58ac7c6e-2a5a-430e-a799-ad4e31b81c19",
   "metadata": {},
   "outputs": [
    {
     "data": {
      "text/html": [
       "<div>\n",
       "<style scoped>\n",
       "    .dataframe tbody tr th:only-of-type {\n",
       "        vertical-align: middle;\n",
       "    }\n",
       "\n",
       "    .dataframe tbody tr th {\n",
       "        vertical-align: top;\n",
       "    }\n",
       "\n",
       "    .dataframe thead th {\n",
       "        text-align: right;\n",
       "    }\n",
       "</style>\n",
       "<table border=\"1\" class=\"dataframe\">\n",
       "  <thead>\n",
       "    <tr style=\"text-align: right;\">\n",
       "      <th></th>\n",
       "      <th>chunk_id</th>\n",
       "      <th>text</th>\n",
       "      <th>embedding</th>\n",
       "    </tr>\n",
       "  </thead>\n",
       "  <tbody>\n",
       "    <tr>\n",
       "      <th>0</th>\n",
       "      <td>0</td>\n",
       "      <td>INTRODUCTION TO \\nNUTRITION SCIENCE</td>\n",
       "      <td>[-0.05099819228053093, -0.056592684239149094, ...</td>\n",
       "    </tr>\n",
       "    <tr>\n",
       "      <th>1</th>\n",
       "      <td>1</td>\n",
       "      <td>Introduction to Nutrition Science</td>\n",
       "      <td>[-0.05099819228053093, -0.056592684239149094, ...</td>\n",
       "    </tr>\n",
       "    <tr>\n",
       "      <th>2</th>\n",
       "      <td>2</td>\n",
       "      <td>This text is disseminated via the Open Educati...</td>\n",
       "      <td>[-0.019119346514344215, 0.10461532324552536, 0...</td>\n",
       "    </tr>\n",
       "    <tr>\n",
       "      <th>3</th>\n",
       "      <td>3</td>\n",
       "      <td>Instructors can adopt existing LibreTexts text...</td>\n",
       "      <td>[-0.029113631695508957, 0.010369417257606983, ...</td>\n",
       "    </tr>\n",
       "    <tr>\n",
       "      <th>4</th>\n",
       "      <td>4</td>\n",
       "      <td>for the construction, customization, and disse...</td>\n",
       "      <td>[-0.017107605934143066, 0.02413615770637989, -...</td>\n",
       "    </tr>\n",
       "    <tr>\n",
       "      <th>...</th>\n",
       "      <td>...</td>\n",
       "      <td>...</td>\n",
       "      <td>...</td>\n",
       "    </tr>\n",
       "    <tr>\n",
       "      <th>3590</th>\n",
       "      <td>3590</td>\n",
       "      <td>11.7: Food Processing - CC BY-NC-SA 4.0\\n11.8:...</td>\n",
       "      <td>[-0.02437693625688553, -0.005427069962024689, ...</td>\n",
       "    </tr>\n",
       "    <tr>\n",
       "      <th>3591</th>\n",
       "      <td>3591</td>\n",
       "      <td>3 h t t p s : / / m e d . l i b r e t e x t s ...</td>\n",
       "      <td>[-0.025427795946598053, 0.023010170087218285, ...</td>\n",
       "    </tr>\n",
       "    <tr>\n",
       "      <th>3592</th>\n",
       "      <td>3592</td>\n",
       "      <td>SA 4.0\\n13.4: Fuel Sources - CC BY-NC-SA 4.0\\n...</td>\n",
       "      <td>[-0.08159752935171127, 0.005391544196754694, -...</td>\n",
       "    </tr>\n",
       "    <tr>\n",
       "      <th>3593</th>\n",
       "      <td>3593</td>\n",
       "      <td>14.3: Infancy - CC BY-NC-SA 4.0\\n14.4: Toddler...</td>\n",
       "      <td>[-0.023193208500742912, 0.05462077260017395, -...</td>\n",
       "    </tr>\n",
       "    <tr>\n",
       "      <th>3594</th>\n",
       "      <td>3594</td>\n",
       "      <td>4.0\\n16.3: The Food Industry - CC BY-NC-SA 4.0...</td>\n",
       "      <td>[0.007158725988119841, 0.029436541721224785, -...</td>\n",
       "    </tr>\n",
       "  </tbody>\n",
       "</table>\n",
       "<p>3595 rows × 3 columns</p>\n",
       "</div>"
      ],
      "text/plain": [
       "      chunk_id                                               text  \\\n",
       "0            0                INTRODUCTION TO \\nNUTRITION SCIENCE   \n",
       "1            1                  Introduction to Nutrition Science   \n",
       "2            2  This text is disseminated via the Open Educati...   \n",
       "3            3  Instructors can adopt existing LibreTexts text...   \n",
       "4            4  for the construction, customization, and disse...   \n",
       "...        ...                                                ...   \n",
       "3590      3590  11.7: Food Processing - CC BY-NC-SA 4.0\\n11.8:...   \n",
       "3591      3591  3 h t t p s : / / m e d . l i b r e t e x t s ...   \n",
       "3592      3592  SA 4.0\\n13.4: Fuel Sources - CC BY-NC-SA 4.0\\n...   \n",
       "3593      3593  14.3: Infancy - CC BY-NC-SA 4.0\\n14.4: Toddler...   \n",
       "3594      3594  4.0\\n16.3: The Food Industry - CC BY-NC-SA 4.0...   \n",
       "\n",
       "                                              embedding  \n",
       "0     [-0.05099819228053093, -0.056592684239149094, ...  \n",
       "1     [-0.05099819228053093, -0.056592684239149094, ...  \n",
       "2     [-0.019119346514344215, 0.10461532324552536, 0...  \n",
       "3     [-0.029113631695508957, 0.010369417257606983, ...  \n",
       "4     [-0.017107605934143066, 0.02413615770637989, -...  \n",
       "...                                                 ...  \n",
       "3590  [-0.02437693625688553, -0.005427069962024689, ...  \n",
       "3591  [-0.025427795946598053, 0.023010170087218285, ...  \n",
       "3592  [-0.08159752935171127, 0.005391544196754694, -...  \n",
       "3593  [-0.023193208500742912, 0.05462077260017395, -...  \n",
       "3594  [0.007158725988119841, 0.029436541721224785, -...  \n",
       "\n",
       "[3595 rows x 3 columns]"
      ]
     },
     "execution_count": 17,
     "metadata": {},
     "output_type": "execute_result"
    }
   ],
   "source": [
    "# convert table to pandas\n",
    "table.to_pandas()"
   ]
  },
  {
   "cell_type": "markdown",
   "id": "16c85a06-6512-40d4-8f87-d535cb121a17",
   "metadata": {},
   "source": [
    "#### Creating an index on text column and perform a full-text search query retrieval"
   ]
  },
  {
   "cell_type": "code",
   "execution_count": 18,
   "id": "d0b82ff1-6248-4215-b9fe-4ebb41661b21",
   "metadata": {},
   "outputs": [],
   "source": [
    "table.create_fts_index(\"text\")"
   ]
  },
  {
   "cell_type": "code",
   "execution_count": 19,
   "id": "fc365462-fa7b-4127-b9af-64d4c3a4bced",
   "metadata": {},
   "outputs": [
    {
     "data": {
      "text/plain": [
       "[{'text': 'What are some of the nutrients found in your favorite foods?\\nhttp://www.ars.usda.gov/Services/docs.htm?docid=17032\\n2. Have a discussion in class on the “progression of science” and its significance to human health as depicted in the video on\\npellagra (Video .\\n1.2: What Are Nutrients? is shared under a CC BY-NC-SA license and was authored, remixed, and/or curated by LibreTexts.\\nWhat is a calorie? - Emma Bryce What is a calorie? - Emma Bryce\\nFood: A Better Source of Nutrients\\n1.2.1',\n",
       "  '_score': 10.188911437988281},\n",
       " {'text': 'What are Nutrients?  \\nThe foods we eat contain nutrients. Nutrients are substances required by the body to perform its basic functions. Nutrients must be\\nobtained from our diet, since the human body does not synthesize or produce them. Nutrients have one or more of three basic\\nfunctions: they provide energy, contribute to body structure, and/or regulate chemical processes in the body. These basic functions',\n",
       "  '_score': 9.51707935333252},\n",
       " {'text': '1 . 2 . 1 h t t p s : / / m e d . l i b r e t e x t s . o r g / @g o / p a g e / 4 0 5 5 61.2: What Are Nutrients?\\nDefine the word “nutrient” and identify the six classes of nutrients essential for health.\\nList the three main energy (Calorie) yielding nutrients and how many Calories each of these nutrients provide.\\nWhat is in Food?  \\nYour \"diet\" is defined as the foods you choose to eat. The diet of most people contains a variety of foods: nuts, seeds, leafy green',\n",
       "  '_score': 8.999926567077637},\n",
       " {'text': 'Victor Lindlahr wrote in an ad in 1923, “Ninety percent of the diseases known to man are caused by cheap foodstuffs. You are what\\nyou eat.” Today, we know this phrase simply as, “You are what you eat.”\\nFigure : Nutrition provides the body with the nutrients it needs to perform all activities,\\nfrom taking a breath to strenuous athletic activity. © Dreamstime\\nGood nutrition equates to receiving enough (but not too much) of the macronutrients (proteins, carbohydrates, fats, and water) and',\n",
       "  '_score': 7.978999137878418},\n",
       " {'text': 'proteins, and water, and are referred to as macronutrients.\\nTwo of the classes of nutrients are needed in lesser amounts, but are still essential for bodily function. They are vitamins and\\nminerals.\\nOne measurement of food quality is the amount of essential nutrients a food contains relative to the amount of energy it has\\n(nutrient density).\\nDiscussion Starters  \\n1. Make a list of some of your favorite foods and visit the “What’s In the Foods You Eat?” search tool provided by the USDA.',\n",
       "  '_score': 7.971519470214844}]"
      ]
     },
     "execution_count": 19,
     "metadata": {},
     "output_type": "execute_result"
    }
   ],
   "source": [
    "# Perform a full-text search\n",
    "query = 'What are Nutrients?'\n",
    "text_search = table.search(query, query_type=\"fts\").limit(5).select([\"text\"]).to_list()\n",
    "text_search"
   ]
  },
  {
   "cell_type": "markdown",
   "id": "c41b6d0c-4e3b-4d46-bf04-f3efac0fc822",
   "metadata": {},
   "source": [
    "* Function of full_text search retrieval"
   ]
  },
  {
   "cell_type": "code",
   "execution_count": 20,
   "id": "514345a3-eec1-4ece-ace4-6f67628e91ce",
   "metadata": {},
   "outputs": [],
   "source": [
    "def search(query):\n",
    "    text_search = table.search(query, query_type=\"fts\").limit(5).select([\"text\"]).to_list()\n",
    "    return text_search"
   ]
  },
  {
   "cell_type": "code",
   "execution_count": 21,
   "id": "a77c924b-b877-498f-be9f-b0cb4e249035",
   "metadata": {},
   "outputs": [
    {
     "data": {
      "text/plain": [
       "[{'text': 'family members who have hypertension.Weight. Roughly 60 percent of people with hypertension are obese.\\nSodium consumption. The more salt in a person’s diet, the more\\nlikely they are to have high blood pressure.\\nAlcohol. Drinking more than two drinks per day for men and one\\ndrink for women increases the likelihood of hypertension.\\nDiet. In addition to salt and alcohol consumption, other dietary\\nfactors increase chances of developing hypertension.',\n",
       "  '_score': 7.494791507720947},\n",
       " {'text': 'avoided. In this study, people on the low-sodium (1500 milligrams per day) DASH diet had mean systolic blood pressures that were\\n7.1 mmHg lower than people without hypertension not on the DASH diet. The effect on blood pressure was greatest in participants\\nwith hypertension at the beginning of the study who followed the DASH diet. Their systolic blood pressures were, on average, 11.5\\nmmHg lower than participants with hypertension on the control diet.',\n",
       "  '_score': 6.795811653137207},\n",
       " {'text': 'Many scientific studies demonstrate that reducing salt intake prevents hypertension, is helpful in reducing blood pressure after\\nhypertension is diagnosed, and reduces the risk for cardiovascular disease. The IOM recommends that people over fifty, African\\nAmericans, diabetics, and those with chronic kidney disease should consume no more than 1,500 milligrams of sodium per day.',\n",
       "  '_score': 6.471347332000732},\n",
       " {'text': 'three hours in people with hypertension, but there is no evidence that habitual coffee consumption increases blood pressure long-\\nterm or increases the risk for cardiovascular disease.\\nThere is no good evidence that chronic caffeine exposure increases blood pressure chronically in people without hypertension.\\nSome have hypothesized that caffeine elevates calcium excretion and therefore could potentially harm bones. The scientific',\n",
       "  '_score': 6.307511329650879},\n",
       " {'text': 'Resources  \\n1. New ACC/AHA High Blood Pressure Guidelines Lower Definition of Hypertension. (n.d.). American College of Cardiology.\\nRetrieved July 2, 2020, from http%3a%2f%2fwww.acc.org%2flatest-in-\\ncardiology%2farticles%2f2017%2f11%2f08%2f11%2f47%2fmon-5pm-bp-guideline-aha-2017\\n↵\\n2. Centers for Disease Control and Prevention. “FastStats—Hypertension.” Accessed October 2, 2011.\\nhttp://www.cdc.gov/nchs/fastats/hyprtens.htm. ↵',\n",
       "  '_score': 6.202819347381592}]"
      ]
     },
     "execution_count": 21,
     "metadata": {},
     "output_type": "execute_result"
    }
   ],
   "source": [
    "query = 'Hypertension'\n",
    "text_search = search(query)\n",
    "text_search"
   ]
  },
  {
   "cell_type": "markdown",
   "id": "f42ee34b-61cb-4f5d-ae0e-c1824f465739",
   "metadata": {},
   "source": [
    "#### Using Hugging-face google flan-t5 model locally to perform RAG with full-text search"
   ]
  },
  {
   "cell_type": "code",
   "execution_count": 22,
   "id": "3efc5851-af77-4d3b-9105-48980718b579",
   "metadata": {},
   "outputs": [
    {
     "data": {
      "application/vnd.jupyter.widget-view+json": {
       "model_id": "3566b7fe2ef94dd18f946b3144e7d0a6",
       "version_major": 2,
       "version_minor": 0
      },
      "text/plain": [
       "tokenizer_config.json:   0%|          | 0.00/2.54k [00:00<?, ?B/s]"
      ]
     },
     "metadata": {},
     "output_type": "display_data"
    },
    {
     "data": {
      "application/vnd.jupyter.widget-view+json": {
       "model_id": "602ddbef78734ff0bb45dceddfd41540",
       "version_major": 2,
       "version_minor": 0
      },
      "text/plain": [
       "spiece.model:   0%|          | 0.00/792k [00:00<?, ?B/s]"
      ]
     },
     "metadata": {},
     "output_type": "display_data"
    },
    {
     "data": {
      "application/vnd.jupyter.widget-view+json": {
       "model_id": "0e99ae07c0ec463997f1a0f4b9c0d6f6",
       "version_major": 2,
       "version_minor": 0
      },
      "text/plain": [
       "tokenizer.json:   0%|          | 0.00/2.42M [00:00<?, ?B/s]"
      ]
     },
     "metadata": {},
     "output_type": "display_data"
    },
    {
     "data": {
      "application/vnd.jupyter.widget-view+json": {
       "model_id": "7ff07df7707f4d00831f27414e575f97",
       "version_major": 2,
       "version_minor": 0
      },
      "text/plain": [
       "special_tokens_map.json:   0%|          | 0.00/2.20k [00:00<?, ?B/s]"
      ]
     },
     "metadata": {},
     "output_type": "display_data"
    },
    {
     "name": "stderr",
     "output_type": "stream",
     "text": [
      "/home/bluemusk/.local/share/virtualenvs/diet-assistant-eO1hxvO4/lib/python3.10/site-packages/transformers/tokenization_utils_base.py:1601: FutureWarning: `clean_up_tokenization_spaces` was not set. It will be set to `True` by default. This behavior will be depracted in transformers v4.45, and will be then set to `False` by default. For more details check this issue: https://github.com/huggingface/transformers/issues/31884\n",
      "  warnings.warn(\n"
     ]
    },
    {
     "data": {
      "application/vnd.jupyter.widget-view+json": {
       "model_id": "1b0c9242bc6e4b6bb13b05efac9964cb",
       "version_major": 2,
       "version_minor": 0
      },
      "text/plain": [
       "config.json:   0%|          | 0.00/662 [00:00<?, ?B/s]"
      ]
     },
     "metadata": {},
     "output_type": "display_data"
    },
    {
     "data": {
      "application/vnd.jupyter.widget-view+json": {
       "model_id": "3fd257ab3fa8479bb0087d3536d9d591",
       "version_major": 2,
       "version_minor": 0
      },
      "text/plain": [
       "model.safetensors:   0%|          | 0.00/3.13G [00:00<?, ?B/s]"
      ]
     },
     "metadata": {},
     "output_type": "display_data"
    },
    {
     "data": {
      "application/vnd.jupyter.widget-view+json": {
       "model_id": "91fce22e1bce46d8b24c0cf95399f9e0",
       "version_major": 2,
       "version_minor": 0
      },
      "text/plain": [
       "generation_config.json:   0%|          | 0.00/147 [00:00<?, ?B/s]"
      ]
     },
     "metadata": {},
     "output_type": "display_data"
    }
   ],
   "source": [
    "# Download model directly\n",
    "tokenizer = AutoTokenizer.from_pretrained(\"google/flan-t5-large\")\n",
    "model = AutoModelForSeq2SeqLM.from_pretrained(\"google/flan-t5-large\")"
   ]
  },
  {
   "cell_type": "code",
   "execution_count": 23,
   "id": "766758a4-d276-43d0-a6b3-050688b0f121",
   "metadata": {},
   "outputs": [],
   "source": [
    "# Full-text search retrieval function\n",
    "def search(query):\n",
    "    text_search = table.search(query, query_type=\"fts\").limit(5).select([\"text\"]).to_list()\n",
    "    return text_search"
   ]
  },
  {
   "cell_type": "code",
   "execution_count": 24,
   "id": "cff16284-24ba-40c8-91c7-8f08d0d28e4a",
   "metadata": {},
   "outputs": [],
   "source": [
    "# Build a prompt and set max_length\n",
    "def build_prompt(query, text_search, tokenizer, max_length=512):\n",
    "    prompt_template = \"\"\"\n",
    "    You are a diet assistant. You're performing a full text search, so use the text column only for answers.\n",
    "    Based on the provided context, answer the following question completely and coherently. \n",
    "    Use the information from the CONTEXT to provide a detailed and full response to the QUESTION.\n",
    "    Ensure your response is comprehensive and complete, avoiding any abrupt or partial endings.\n",
    "\n",
    "    QUESTION: {question}\n",
    "    CONTEXT: {context}\n",
    "    \"\"\".strip()\n",
    "\n",
    "    context = \"\"\n",
    "    for item in text_search:\n",
    "        context += f'{item.get(\"text\", \"\")}\\n\\n'\n",
    "\n",
    "    prompt = prompt_template.format(question=query, context=context).strip()\n",
    "\n",
    "    # Truncate prompt if it exceeds the model's max length\n",
    "    inputs = tokenizer(prompt, return_tensors=\"pt\", truncation=True, max_length=max_length)\n",
    "    truncated_prompt = tokenizer.decode(inputs.input_ids[0], skip_special_tokens=True)\n",
    "    \n",
    "    return truncated_prompt"
   ]
  },
  {
   "cell_type": "code",
   "execution_count": 25,
   "id": "33cb9c5f-6d33-4bea-b57b-28133ec44d73",
   "metadata": {},
   "outputs": [],
   "source": [
    "# Open-source LLM and max_token function\n",
    "def llm(prompt, model, tokenizer, max_tokens=72):\n",
    "    inputs = tokenizer(prompt, return_tensors=\"pt\", truncation=True).input_ids\n",
    "    outputs = model.generate(inputs, max_new_tokens=max_tokens)\n",
    "    return tokenizer.decode(outputs[0], skip_special_tokens=True)"
   ]
  },
  {
   "cell_type": "code",
   "execution_count": 26,
   "id": "1eca2610-e205-4c15-a1fb-37ca71f54714",
   "metadata": {},
   "outputs": [],
   "source": [
    "# Full-Text RAG pipeline\n",
    "def rag_pipeline(query, model, tokenizer):\n",
    "    text_search = search(query)\n",
    "    prompt = build_prompt(query, text_search, tokenizer)\n",
    "    answer = llm(prompt, model, tokenizer)\n",
    "    return answer"
   ]
  },
  {
   "cell_type": "code",
   "execution_count": 27,
   "id": "e3f31dfb-9196-40c2-8335-35ff47cc04cd",
   "metadata": {},
   "outputs": [
    {
     "name": "stdout",
     "output_type": "stream",
     "text": [
      "Nutrients are substances required by the body to perform its basic functions. Nutrients must be obtained from our diet, since the human body does not synthesize or produce them. Nutrients have one or more of three basic functions: they provide energy, contribute to body structure, and/or regulate chemical processes in the body.\n"
     ]
    }
   ],
   "source": [
    "# Applying the RAG pipeline to this query\n",
    "query = 'What are nutrients?'\n",
    "outcome = rag_pipeline(query, model, tokenizer)\n",
    "print(outcome)"
   ]
  },
  {
   "cell_type": "markdown",
   "id": "409006d4-f381-4002-a6ce-f1e3f3f9822c",
   "metadata": {},
   "source": [
    "* Note: the value of max_token can be adjusted for more outcome of the output token."
   ]
  },
  {
   "cell_type": "markdown",
   "id": "47a24250-93fc-4055-a688-833540b4c2e0",
   "metadata": {},
   "source": [
    "#### Creating an index on embedding column and perform semantic search query retrieval"
   ]
  },
  {
   "cell_type": "markdown",
   "id": "80057fa5-e209-45a1-9cf6-cedc465698d4",
   "metadata": {},
   "source": [
    "* Step 1: Convert list embedding column to Fixed Size List Array"
   ]
  },
  {
   "cell_type": "code",
   "execution_count": 28,
   "id": "65d20d2c-5857-4cbd-9f4f-c87c86a7032b",
   "metadata": {},
   "outputs": [],
   "source": [
    "# Convert embeddings list to FixedSizeListArray\n",
    "def convert_to_fixed_size_list(embeddings, embedding_size):\n",
    "    flattened_embeddings = []\n",
    "    \n",
    "    # Iterate over each embedding and ensure correct size\n",
    "    for embedding in embeddings:\n",
    "        if len(embedding) != embedding_size:\n",
    "            raise ValueError(f\"Embedding size {len(embedding)} does not match the expected size {embedding_size}\")\n",
    "        flattened_embeddings.extend(embedding)\n",
    "    \n",
    "    numpy_array = np.array(flattened_embeddings, dtype=np.float32)\n",
    "    \n",
    "    # Create FixedSizeListArray\n",
    "    fixed_size_list = pa.FixedSizeListArray.from_arrays(\n",
    "        pa.array(numpy_array),\n",
    "        list_size=embedding_size\n",
    "    )\n",
    "    \n",
    "    return fixed_size_list"
   ]
  },
  {
   "cell_type": "markdown",
   "id": "80fb11e7-647a-4d3b-a75b-22ed23caef45",
   "metadata": {},
   "source": [
    "* Step 2: Convert LanceDB table to an Arrow table format"
   ]
  },
  {
   "cell_type": "code",
   "execution_count": 29,
   "id": "c05df069-8fa3-4653-a2f8-ff9ec3587585",
   "metadata": {},
   "outputs": [
    {
     "data": {
      "text/html": [
       "<div>\n",
       "<style scoped>\n",
       "    .dataframe tbody tr th:only-of-type {\n",
       "        vertical-align: middle;\n",
       "    }\n",
       "\n",
       "    .dataframe tbody tr th {\n",
       "        vertical-align: top;\n",
       "    }\n",
       "\n",
       "    .dataframe thead th {\n",
       "        text-align: right;\n",
       "    }\n",
       "</style>\n",
       "<table border=\"1\" class=\"dataframe\">\n",
       "  <thead>\n",
       "    <tr style=\"text-align: right;\">\n",
       "      <th></th>\n",
       "      <th>chunk_id</th>\n",
       "      <th>text</th>\n",
       "      <th>embedding</th>\n",
       "    </tr>\n",
       "  </thead>\n",
       "  <tbody>\n",
       "    <tr>\n",
       "      <th>0</th>\n",
       "      <td>0</td>\n",
       "      <td>INTRODUCTION TO \\nNUTRITION SCIENCE</td>\n",
       "      <td>[-0.05099819228053093, -0.056592684239149094, ...</td>\n",
       "    </tr>\n",
       "    <tr>\n",
       "      <th>1</th>\n",
       "      <td>1</td>\n",
       "      <td>Introduction to Nutrition Science</td>\n",
       "      <td>[-0.05099819228053093, -0.056592684239149094, ...</td>\n",
       "    </tr>\n",
       "    <tr>\n",
       "      <th>2</th>\n",
       "      <td>2</td>\n",
       "      <td>This text is disseminated via the Open Educati...</td>\n",
       "      <td>[-0.019119346514344215, 0.10461532324552536, 0...</td>\n",
       "    </tr>\n",
       "    <tr>\n",
       "      <th>3</th>\n",
       "      <td>3</td>\n",
       "      <td>Instructors can adopt existing LibreTexts text...</td>\n",
       "      <td>[-0.029113631695508957, 0.010369417257606983, ...</td>\n",
       "    </tr>\n",
       "    <tr>\n",
       "      <th>4</th>\n",
       "      <td>4</td>\n",
       "      <td>for the construction, customization, and disse...</td>\n",
       "      <td>[-0.017107605934143066, 0.02413615770637989, -...</td>\n",
       "    </tr>\n",
       "    <tr>\n",
       "      <th>...</th>\n",
       "      <td>...</td>\n",
       "      <td>...</td>\n",
       "      <td>...</td>\n",
       "    </tr>\n",
       "    <tr>\n",
       "      <th>3590</th>\n",
       "      <td>3590</td>\n",
       "      <td>11.7: Food Processing - CC BY-NC-SA 4.0\\n11.8:...</td>\n",
       "      <td>[-0.02437693625688553, -0.005427069962024689, ...</td>\n",
       "    </tr>\n",
       "    <tr>\n",
       "      <th>3591</th>\n",
       "      <td>3591</td>\n",
       "      <td>3 h t t p s : / / m e d . l i b r e t e x t s ...</td>\n",
       "      <td>[-0.025427795946598053, 0.023010170087218285, ...</td>\n",
       "    </tr>\n",
       "    <tr>\n",
       "      <th>3592</th>\n",
       "      <td>3592</td>\n",
       "      <td>SA 4.0\\n13.4: Fuel Sources - CC BY-NC-SA 4.0\\n...</td>\n",
       "      <td>[-0.08159752935171127, 0.005391544196754694, -...</td>\n",
       "    </tr>\n",
       "    <tr>\n",
       "      <th>3593</th>\n",
       "      <td>3593</td>\n",
       "      <td>14.3: Infancy - CC BY-NC-SA 4.0\\n14.4: Toddler...</td>\n",
       "      <td>[-0.023193208500742912, 0.05462077260017395, -...</td>\n",
       "    </tr>\n",
       "    <tr>\n",
       "      <th>3594</th>\n",
       "      <td>3594</td>\n",
       "      <td>4.0\\n16.3: The Food Industry - CC BY-NC-SA 4.0...</td>\n",
       "      <td>[0.007158725988119841, 0.029436541721224785, -...</td>\n",
       "    </tr>\n",
       "  </tbody>\n",
       "</table>\n",
       "<p>3595 rows × 3 columns</p>\n",
       "</div>"
      ],
      "text/plain": [
       "      chunk_id                                               text  \\\n",
       "0            0                INTRODUCTION TO \\nNUTRITION SCIENCE   \n",
       "1            1                  Introduction to Nutrition Science   \n",
       "2            2  This text is disseminated via the Open Educati...   \n",
       "3            3  Instructors can adopt existing LibreTexts text...   \n",
       "4            4  for the construction, customization, and disse...   \n",
       "...        ...                                                ...   \n",
       "3590      3590  11.7: Food Processing - CC BY-NC-SA 4.0\\n11.8:...   \n",
       "3591      3591  3 h t t p s : / / m e d . l i b r e t e x t s ...   \n",
       "3592      3592  SA 4.0\\n13.4: Fuel Sources - CC BY-NC-SA 4.0\\n...   \n",
       "3593      3593  14.3: Infancy - CC BY-NC-SA 4.0\\n14.4: Toddler...   \n",
       "3594      3594  4.0\\n16.3: The Food Industry - CC BY-NC-SA 4.0...   \n",
       "\n",
       "                                              embedding  \n",
       "0     [-0.05099819228053093, -0.056592684239149094, ...  \n",
       "1     [-0.05099819228053093, -0.056592684239149094, ...  \n",
       "2     [-0.019119346514344215, 0.10461532324552536, 0...  \n",
       "3     [-0.029113631695508957, 0.010369417257606983, ...  \n",
       "4     [-0.017107605934143066, 0.02413615770637989, -...  \n",
       "...                                                 ...  \n",
       "3590  [-0.02437693625688553, -0.005427069962024689, ...  \n",
       "3591  [-0.025427795946598053, 0.023010170087218285, ...  \n",
       "3592  [-0.08159752935171127, 0.005391544196754694, -...  \n",
       "3593  [-0.023193208500742912, 0.05462077260017395, -...  \n",
       "3594  [0.007158725988119841, 0.029436541721224785, -...  \n",
       "\n",
       "[3595 rows x 3 columns]"
      ]
     },
     "execution_count": 29,
     "metadata": {},
     "output_type": "execute_result"
    }
   ],
   "source": [
    "arrow_table = table.to_arrow()\n",
    "\n",
    "# check the pandas frame of the converted arrow table\n",
    "arrow_table.to_pandas()"
   ]
  },
  {
   "cell_type": "markdown",
   "id": "fbefead2-88e5-4d0c-9e66-d80fbf7eda87",
   "metadata": {},
   "source": [
    "* Step 3: Extract embeddings to Fixed-size-list array with the above function"
   ]
  },
  {
   "cell_type": "code",
   "execution_count": 30,
   "id": "80fe4b69-23a7-45b3-b7bf-44fb2451664b",
   "metadata": {},
   "outputs": [],
   "source": [
    "# Embedding size for embedding model - all-MiniLM-L6-v2'\n",
    "embedding_size = 384\n",
    "\n",
    "# Calling the convert to FixedSizeListArray function\n",
    "fixed_size_embeddings = convert_to_fixed_size_list(arrow_table.to_pandas()['embedding'], embedding_size)"
   ]
  },
  {
   "cell_type": "markdown",
   "id": "6b5d8528-cd46-49b6-9d5c-7e5b5bd9fa20",
   "metadata": {},
   "source": [
    "* Step 4: Update the arrow table with the fixed-size-list array embedding column"
   ]
  },
  {
   "cell_type": "code",
   "execution_count": 31,
   "id": "ab7a39c0-3fa2-4c39-a653-e31e0f1195c8",
   "metadata": {},
   "outputs": [],
   "source": [
    "updated_table = arrow_table.set_column(\n",
    "    arrow_table.schema.get_field_index('embedding'),       # Get embedding column index\n",
    "    'embedding',                                           # Column name\n",
    "    fixed_size_embeddings                                  # FixedSizeListArray embeddings\n",
    ")"
   ]
  },
  {
   "cell_type": "markdown",
   "id": "67ffff7c-1a0b-40a8-b609-576c2858fb09",
   "metadata": {},
   "source": [
    "* Step 5: Connect to LanceDB and create a new table name with updated data in the database"
   ]
  },
  {
   "cell_type": "code",
   "execution_count": 32,
   "id": "797e56ab-9f94-4199-ad34-a8a305bf9d45",
   "metadata": {},
   "outputs": [
    {
     "data": {
      "text/plain": [
       "['diet_table', 'new_diet_table']"
      ]
     },
     "execution_count": 32,
     "metadata": {},
     "output_type": "execute_result"
    }
   ],
   "source": [
    "# Connect to a LanceDB database. db_path is defined above\n",
    "db = lancedb.connect(db_path)  \n",
    "\n",
    "# Create new table with updated data and a new table name (new_diet_table)\n",
    "db.create_table('new_diet_table', updated_table)\n",
    "\n",
    "# confirm the new created table\n",
    "db.table_names()"
   ]
  },
  {
   "cell_type": "markdown",
   "id": "3aece7aa-baa9-46ab-81e0-41fbb56260ba",
   "metadata": {},
   "source": [
    "* Step 6: create a vector index on embedding column of new_diet_table and perform a semantic search"
   ]
  },
  {
   "cell_type": "code",
   "execution_count": 33,
   "id": "3f2d6c9f-d474-49fa-af4c-d278cdf9a259",
   "metadata": {},
   "outputs": [],
   "source": [
    "# open created table\n",
    "new_table = db.open_table('new_diet_table')\n",
    "\n",
    "# index for embedding column on updated_table\n",
    "new_table.create_index(metric='cosine', vector_column_name='embedding', index_type='IVF_PQ')"
   ]
  },
  {
   "cell_type": "code",
   "execution_count": 34,
   "id": "ac4f03cf-0809-4292-8e5c-4a68085dfd7d",
   "metadata": {},
   "outputs": [
    {
     "name": "stderr",
     "output_type": "stream",
     "text": [
      "/home/bluemusk/.local/share/virtualenvs/diet-assistant-eO1hxvO4/lib/python3.10/site-packages/transformers/tokenization_utils_base.py:1601: FutureWarning: `clean_up_tokenization_spaces` was not set. It will be set to `True` by default. This behavior will be depracted in transformers v4.45, and will be then set to `False` by default. For more details check this issue: https://github.com/huggingface/transformers/issues/31884\n",
      "  warnings.warn(\n"
     ]
    }
   ],
   "source": [
    "# Define a query\n",
    "query = 'What are Nutrients?'\n",
    "\n",
    "# Load the embedding model\n",
    "embed_model = SentenceTransformer('all-MiniLM-L6-v2')\n",
    "\n",
    "# Convert the query into a list format\n",
    "query_embedding = embed_model.encode(query).tolist()  \n",
    "\n",
    "# Perform the semantic search\n",
    "semantic_search = new_table.search(query_embedding, query_type='vector', vector_column_name='embedding').limit(5).select(['text']).to_list()"
   ]
  },
  {
   "cell_type": "code",
   "execution_count": 35,
   "id": "e0512109-c3ba-48f5-b45f-13fa26955495",
   "metadata": {},
   "outputs": [
    {
     "data": {
      "text/plain": [
       "[{'text': 'proteins, and water, and are referred to as macronutrients.\\nTwo of the classes of nutrients are needed in lesser amounts, but are still essential for bodily function. They are vitamins and\\nminerals.\\nOne measurement of food quality is the amount of essential nutrients a food contains relative to the amount of energy it has\\n(nutrient density).\\nDiscussion Starters  \\n1. Make a list of some of your favorite foods and visit the “What’s In the Foods You Eat?” search tool provided by the USDA.',\n",
       "  '_distance': 0.48930734395980835},\n",
       " {'text': 'What are Nutrients?  \\nThe foods we eat contain nutrients. Nutrients are substances required by the body to perform its basic functions. Nutrients must be\\nobtained from our diet, since the human body does not synthesize or produce them. Nutrients have one or more of three basic\\nfunctions: they provide energy, contribute to body structure, and/or regulate chemical processes in the body. These basic functions',\n",
       "  '_distance': 0.5001618266105652},\n",
       " {'text': 'allow us to detect and respond to environmental surroundings, move, excrete wastes, respire (breathe), grow, and reproduce. There\\nare six classes of nutrients required for the body to function and maintain overall health. These are carbohydrates, lipids, proteins,\\nwater, vitamins, and minerals. Foods also contain non-nutrients that may be harmful (such as natural toxins common in plant foods\\nand additives like some dyes and preservatives) or beneficial (such as antioxidants).\\nMacronutrients',\n",
       "  '_distance': 0.5306744575500488},\n",
       " {'text': 'vegetables and more! The foods we eat contain nutrients. Nutrients are substances required by the body to perform its basic\\nfunctions. Nutrients must be obtained from diet, since the human body does not synthesize them, or does not synthesize them in\\nlarge enough amounts for human health. Nutrients are used for many body functions such as: growing, moving your muscles,',\n",
       "  '_distance': 0.5602287650108337},\n",
       " {'text': 'repairing tissues and much more! There are six classes of essential nutrients required for the body to function and maintain overall\\nhealth. These six classes of essential nutrients are: carbohydrates, lipids (fats), proteins, water, vitamins, and minerals. Foods also\\ncontain non-nutrients. Some non-nutrients appear to be very important for human health, like fiber and antioxidants, some non-',\n",
       "  '_distance': 0.640679657459259}]"
      ]
     },
     "execution_count": 35,
     "metadata": {},
     "output_type": "execute_result"
    }
   ],
   "source": [
    "# Get retrieval for semantic search\n",
    "semantic_search"
   ]
  },
  {
   "cell_type": "markdown",
   "id": "41e8b82e-7469-4b41-ae8f-1ec11e5e16ec",
   "metadata": {},
   "source": [
    "* Function of Semantic search retrieval"
   ]
  },
  {
   "cell_type": "code",
   "execution_count": 36,
   "id": "2c7a6c5b-78cf-43d8-97e6-ca8defa0a3e3",
   "metadata": {},
   "outputs": [],
   "source": [
    "def search_vector(query):\n",
    "    embed_model = SentenceTransformer('all-MiniLM-L6-v2')\n",
    "    query_embedding = embed_model.encode(query).tolist()\n",
    "    semantic_search = new_table.search(query_embedding, query_type='vector', vector_column_name='embedding').limit(5).select(['text']).to_list()\n",
    "    return semantic_search"
   ]
  },
  {
   "cell_type": "code",
   "execution_count": 37,
   "id": "82a6a5d6-e457-44e1-9ad9-14fa580f8f74",
   "metadata": {},
   "outputs": [
    {
     "data": {
      "text/plain": [
       "[{'text': 'family members who have hypertension.Weight. Roughly 60 percent of people with hypertension are obese.\\nSodium consumption. The more salt in a person’s diet, the more\\nlikely they are to have high blood pressure.\\nAlcohol. Drinking more than two drinks per day for men and one\\ndrink for women increases the likelihood of hypertension.\\nDiet. In addition to salt and alcohol consumption, other dietary\\nfactors increase chances of developing hypertension.',\n",
       "  '_distance': 0.6795074939727783},\n",
       " {'text': 'can be beneficial, as well as consuming more soy products. It is also important to maintain a healthy weight and avoid smoking or\\nchewing tobacco.\\nHypertension  \\nChronic high blood pressure, also known as hypertension, is a significant health hazard affecting one out of three adults in the\\nUnited States. This chronic condition is a major cause of heart attacks and strokes, yet it has no symptoms until blood pressure',\n",
       "  '_distance': 0.7372344136238098},\n",
       " {'text': 'blood pressure of 130/80 mm Hg or greater. Hypertension is a risk factor for cardiovascular disease, and reducing blood pressure\\nhas been found to decrease the risk of dying from a heart attack or stroke. The Centers for Disease Control and Prevention (CDC)\\nreported that in 2007–2008 approximately 33 percent of Americans were hypertensive.The percentage of people with\\nhypertension increases to over 60 percent in people over the age of sixty.[1]\\n[2]',\n",
       "  '_distance': 0.7452706098556519},\n",
       " {'text': 'Resources  \\n1. New ACC/AHA High Blood Pressure Guidelines Lower Definition of Hypertension. (n.d.). American College of Cardiology.\\nRetrieved July 2, 2020, from http%3a%2f%2fwww.acc.org%2flatest-in-\\ncardiology%2farticles%2f2017%2f11%2f08%2f11%2f47%2fmon-5pm-bp-guideline-aha-2017\\n↵\\n2. Centers for Disease Control and Prevention. “FastStats—Hypertension.” Accessed October 2, 2011.\\nhttp://www.cdc.gov/nchs/fastats/hyprtens.htm. ↵',\n",
       "  '_distance': 0.7572619318962097},\n",
       " {'text': 'High Blood Pressure  \\nBlood pressure is the force of blood pumping through the arteries. When pressure levels become too high, it results in a condition\\nknown as hypertension, which is asymptomatic but can lead to a number of other problems, including heart attacks, heart failure,\\nkidney failure, and strokes. For people with high blood pressure, it can be beneficial to follow the same recommendations as those',\n",
       "  '_distance': 0.8000416159629822}]"
      ]
     },
     "execution_count": 37,
     "metadata": {},
     "output_type": "execute_result"
    }
   ],
   "source": [
    "# testing the function above\n",
    "query = 'Hypertension'\n",
    "semantic_search = search_vector(query)\n",
    "semantic_search"
   ]
  },
  {
   "cell_type": "code",
   "execution_count": 38,
   "id": "f62a5b7e-8e5c-4d1d-bb8f-abdde3dfe4b9",
   "metadata": {},
   "outputs": [
    {
     "data": {
      "text/plain": [
       "[{'text': '6 . 8 . 1 h t t p s : / / m e d . l i b r e t e x t s . o r g / @g o / p a g e / 4 0 6 1 16.8: Proteins, Diet, and Personal Choices\\nWe have discussed what proteins are, how they are made, how they are digested and absorbed, the many functions of proteins in the\\nbody, and the consequences of having too little or too much protein in the diet. This section will provide you with information on',\n",
       "  '_distance': 0.45874282717704773},\n",
       " {'text': '6 . 2 . 1 h t t p s : / / m e d . l i b r e t e x t s . o r g / @g o / p a g e / 4 0 6 0 56.2: Defining Protein\\nProtein makes up approximately 20 percent of the human body and is present in every single cell. The word protein is a Greek\\nword, meaning “of utmost importance.” Proteins are called the workhorses of life as they provide the body with structure and\\nperform a vast array of functions. You can stand, walk, run, skate, swim, and more because of your protein-rich muscles. Protein is',\n",
       "  '_distance': 0.5481024980545044},\n",
       " {'text': '1CHAPTER OVERVIEW\\n6: Protein\\nBy the end of this chapter, you will be able to:\\nDescribe the role and structure of proteins\\nDescribe the functions of proteins in the body\\nDescribe the consequences of protein imbalance\\n6.1: Introduction to Protein\\n6.2: Defining Protein\\n6.3: The Role of Proteins in Foods- Cooking and Denaturation\\n6.4: Protein Digestion and Absorption\\n6.5: Protein’s Functions in the Body\\n6.6: Diseases Involving Proteins\\n6.7: Proteins in a Nutshell',\n",
       "  '_distance': 0.5778118968009949},\n",
       " {'text': 'protein, the risks and consequences associated with too much or too little protein, and where to find healthy sources of it in your\\ndiet.\\nWhat Is Protein?  \\nProteins, simply put, are macromolecules composed of amino acids. Amino acids are commonly called protein’s building blocks.\\nProteins are crucial for the nourishment, renewal, and continuance of life. Proteins contain the elements carbon, hydrogen, and',\n",
       "  '_distance': 0.6020190119743347},\n",
       " {'text': '6 . 7 . 1 h t t p s : / / m e d . l i b r e t e x t s . o r g / @g o / p a g e / 4 0 6 1 06.7: Proteins in a Nutshell\\nProteins are long chains of amino acids folded into precise structures that determine their functions, which are in the tens of\\nthousands. They are the primary construction materials of the body serving as building blocks for bone, skin, hair, muscle,\\nhormones, and antibodies. Without them we cannot breakdown or build macromolecules, grow, or heal from a wound. Too little',\n",
       "  '_distance': 0.6237189769744873}]"
      ]
     },
     "execution_count": 38,
     "metadata": {},
     "output_type": "execute_result"
    }
   ],
   "source": [
    "# trying another query\n",
    "new_query = 'tell me something about protein'\n",
    "semantic_search = search_vector(new_query)\n",
    "semantic_search"
   ]
  },
  {
   "cell_type": "markdown",
   "id": "f8254952-e6ce-4c9a-8b5a-b7c8aacd985c",
   "metadata": {},
   "source": [
    "* for loop to get the text from semantic search"
   ]
  },
  {
   "cell_type": "code",
   "execution_count": 39,
   "id": "30d242d1-fbd7-4931-b67e-149f0f638fff",
   "metadata": {},
   "outputs": [
    {
     "name": "stdout",
     "output_type": "stream",
     "text": [
      "6 . 8 . 1 h t t p s : / / m e d . l i b r e t e x t s . o r g / @g o / p a g e / 4 0 6 1 16.8: Proteins, Diet, and Personal Choices\n",
      "We have discussed what proteins are, how they are made, how they are digested and absorbed, the many functions of proteins in the\n",
      "body, and the consequences of having too little or too much protein in the diet. This section will provide you with information on\n",
      "6 . 2 . 1 h t t p s : / / m e d . l i b r e t e x t s . o r g / @g o / p a g e / 4 0 6 0 56.2: Defining Protein\n",
      "Protein makes up approximately 20 percent of the human body and is present in every single cell. The word protein is a Greek\n",
      "word, meaning “of utmost importance.” Proteins are called the workhorses of life as they provide the body with structure and\n",
      "perform a vast array of functions. You can stand, walk, run, skate, swim, and more because of your protein-rich muscles. Protein is\n",
      "1CHAPTER OVERVIEW\n",
      "6: Protein\n",
      "By the end of this chapter, you will be able to:\n",
      "Describe the role and structure of proteins\n",
      "Describe the functions of proteins in the body\n",
      "Describe the consequences of protein imbalance\n",
      "6.1: Introduction to Protein\n",
      "6.2: Defining Protein\n",
      "6.3: The Role of Proteins in Foods- Cooking and Denaturation\n",
      "6.4: Protein Digestion and Absorption\n",
      "6.5: Protein’s Functions in the Body\n",
      "6.6: Diseases Involving Proteins\n",
      "6.7: Proteins in a Nutshell\n",
      "protein, the risks and consequences associated with too much or too little protein, and where to find healthy sources of it in your\n",
      "diet.\n",
      "What Is Protein?  \n",
      "Proteins, simply put, are macromolecules composed of amino acids. Amino acids are commonly called protein’s building blocks.\n",
      "Proteins are crucial for the nourishment, renewal, and continuance of life. Proteins contain the elements carbon, hydrogen, and\n",
      "6 . 7 . 1 h t t p s : / / m e d . l i b r e t e x t s . o r g / @g o / p a g e / 4 0 6 1 06.7: Proteins in a Nutshell\n",
      "Proteins are long chains of amino acids folded into precise structures that determine their functions, which are in the tens of\n",
      "thousands. They are the primary construction materials of the body serving as building blocks for bone, skin, hair, muscle,\n",
      "hormones, and antibodies. Without them we cannot breakdown or build macromolecules, grow, or heal from a wound. Too little\n"
     ]
    }
   ],
   "source": [
    "# Print the results\n",
    "for result in semantic_search:\n",
    "    print(result['text'])"
   ]
  },
  {
   "cell_type": "markdown",
   "id": "8e1030b0-89a3-4841-ad0c-0be72fd5aea6",
   "metadata": {},
   "source": [
    "#### Using Hugging-face google flan-t5 model locally to perform RAG with semantic search"
   ]
  },
  {
   "cell_type": "code",
   "execution_count": 40,
   "id": "4005aa4a-2be0-4174-8af2-324fcc4c0d70",
   "metadata": {},
   "outputs": [],
   "source": [
    "# Initialize the FLAN-T5 model and tokenizer\n",
    "tokenizer = AutoTokenizer.from_pretrained(\"google/flan-t5-large\")\n",
    "model = AutoModelForSeq2SeqLM.from_pretrained(\"google/flan-t5-large\")"
   ]
  },
  {
   "cell_type": "code",
   "execution_count": 41,
   "id": "bc0e306f-41ac-4983-b8e5-b96dc82696a4",
   "metadata": {},
   "outputs": [],
   "source": [
    "# Semantic search retrieval function\n",
    "def search_vector(query, table):\n",
    "    embed_model = SentenceTransformer('all-MiniLM-L6-v2')\n",
    "    query_embedding = embed_model.encode(query).tolist()\n",
    "    semantic_search = table.search(query_embedding, query_type='vector', vector_column_name='embedding').limit(5).select(['text']).to_list()\n",
    "    return semantic_search"
   ]
  },
  {
   "cell_type": "code",
   "execution_count": 42,
   "id": "e4104e84-3789-46e3-8170-ff7d643d73e1",
   "metadata": {},
   "outputs": [],
   "source": [
    "# Build a prompt\n",
    "def build_prompt(query, semantic_search, tokenizer, max_length=512):\n",
    "    prompt_template = \"\"\"\n",
    "    You are a diet assistant. You are performing a semantic search, so use the embedding column for your answers.\n",
    "    Based on the provided context, answer the following question completely and coherently. \n",
    "    Use the information from the CONTEXT to provide a detailed and full response to the QUESTION.\n",
    "    Ensure your response is comprehensive and complete, avoiding any abrupt or partial endings.\n",
    "\n",
    "    QUESTION: {question}\n",
    "    CONTEXT: {context}\n",
    "    \"\"\".strip()\n",
    "\n",
    "    context = \"\"\n",
    "    for item in semantic_search:\n",
    "        context += f'{item.get(\"embedding\", \"\")}\\n\\n'\n",
    "\n",
    "    prompt = prompt_template.format(question=query, context=context).strip()\n",
    "\n",
    "    # Tokenize and truncate the prompt if it exceeds the max length\n",
    "    inputs = tokenizer(prompt, return_tensors=\"pt\", truncation=True, max_length=max_length)\n",
    "    truncated_prompt = tokenizer.decode(inputs.input_ids[0], skip_special_tokens=True)\n",
    "    \n",
    "    return truncated_prompt"
   ]
  },
  {
   "cell_type": "code",
   "execution_count": 43,
   "id": "70218724-7a84-4cbb-b83b-9bf59f4d3dd7",
   "metadata": {},
   "outputs": [],
   "source": [
    "# Generate response from the language model\n",
    "def llm(prompt, model, tokenizer):\n",
    "    inputs = tokenizer(prompt, return_tensors=\"pt\", truncation=True).input_ids\n",
    "    outputs = model.generate(inputs, max_length=512, num_beams=2, early_stopping=True)\n",
    "    return tokenizer.decode(outputs[0], skip_special_tokens=True)"
   ]
  },
  {
   "cell_type": "code",
   "execution_count": 44,
   "id": "447317d3-c6a8-4a74-b1d9-1fd760cb967a",
   "metadata": {},
   "outputs": [],
   "source": [
    "# Full RAG pipeline\n",
    "def rag_pipeline(query, table, model, tokenizer):\n",
    "    semantic_search = search_vector(query, new_table)\n",
    "    prompt = build_prompt(query, semantic_search, tokenizer)\n",
    "    answer = llm(prompt, model, tokenizer)\n",
    "    return answer"
   ]
  },
  {
   "cell_type": "code",
   "execution_count": 45,
   "id": "fd5b30da-3161-4c3a-b0d0-024d58e482c0",
   "metadata": {},
   "outputs": [
    {
     "name": "stdout",
     "output_type": "stream",
     "text": [
      "Hypertension is a medical condition characterized by high blood pressure.\n"
     ]
    }
   ],
   "source": [
    "# Applying the RAG pipeline to a query\n",
    "query = 'Tell me something about hypertension?'\n",
    "outcome = rag_pipeline(query, new_table, model, tokenizer)\n",
    "print(outcome)"
   ]
  },
  {
   "cell_type": "code",
   "execution_count": 46,
   "id": "9369f807-36a6-4e9a-9691-74cc7f949ec9",
   "metadata": {},
   "outputs": [
    {
     "name": "stdout",
     "output_type": "stream",
     "text": [
      "Lipids are fats that are found in the body.\n"
     ]
    }
   ],
   "source": [
    "# Applying the RAG pipeline to another query\n",
    "query = 'What are Lipids?'\n",
    "outcome = rag_pipeline(query, new_table, model, tokenizer)\n",
    "print(outcome)"
   ]
  },
  {
   "cell_type": "code",
   "execution_count": 47,
   "id": "af1ad4a1-8c23-4f98-9f52-7a3b527288be",
   "metadata": {},
   "outputs": [
    {
     "name": "stdout",
     "output_type": "stream",
     "text": [
      "Carbohydrates, Proteins, and Vitamins are the three main nutrients that make up a healthy diet.\n"
     ]
    }
   ],
   "source": [
    "# Applying the RAG pipeline to a query\n",
    "query = 'Tell me something about Carbohydrates, Proteins and Vitamins?'\n",
    "outcome = rag_pipeline(query, new_table, model, tokenizer)\n",
    "print(outcome)"
   ]
  },
  {
   "cell_type": "code",
   "execution_count": null,
   "id": "9810f3f7-1415-43b1-a3b1-4e07bf3fb829",
   "metadata": {},
   "outputs": [],
   "source": []
  }
 ],
 "metadata": {
  "kernelspec": {
   "display_name": "Python 3 (ipykernel)",
   "language": "python",
   "name": "python3"
  },
  "language_info": {
   "codemirror_mode": {
    "name": "ipython",
    "version": 3
   },
   "file_extension": ".py",
   "mimetype": "text/x-python",
   "name": "python",
   "nbconvert_exporter": "python",
   "pygments_lexer": "ipython3",
   "version": "3.10.12"
  }
 },
 "nbformat": 4,
 "nbformat_minor": 5
}
